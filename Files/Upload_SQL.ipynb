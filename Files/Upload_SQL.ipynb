{
 "cells": [
  {
   "cell_type": "code",
   "execution_count": 1,
   "id": "f6d04819",
   "metadata": {},
   "outputs": [],
   "source": [
    "import pandas as pd\n",
    "import psycopg2"
   ]
  },
  {
   "cell_type": "code",
   "execution_count": 2,
   "id": "ba250161",
   "metadata": {},
   "outputs": [],
   "source": [
    "df = pd.read_csv('MIMIC_WITHOUT_OUTLIERS_ITERATIVE_IMPUTATION.csv')"
   ]
  },
  {
   "cell_type": "code",
   "execution_count": 3,
   "id": "e4aa0c2a",
   "metadata": {},
   "outputs": [
    {
     "data": {
      "text/plain": [
       "subject_id                           float64\n",
       "hadm_id                              float64\n",
       "group_id                             float64\n",
       "rel_day                              float64\n",
       "age                                  float64\n",
       "gender_m                             float64\n",
       "marital_status_divorced              float64\n",
       "marital_status_life partner          float64\n",
       "marital_status_married               float64\n",
       "marital_status_separated             float64\n",
       "marital_status_single                float64\n",
       "marital_status_unknown_default       float64\n",
       "marital_status_widowed               float64\n",
       "bmi                                  float64\n",
       "heart_rate                           float64\n",
       "flag_heart_rate_alarm_low            float64\n",
       "flag_heart_rate_alarm_high           float64\n",
       "oxygen_saturation                    float64\n",
       "flag_oxygen_saturation_alarm_high    float64\n",
       "flag_oxygen_saturation_alarm_low     float64\n",
       "arterial_blood_pressure_systolic     float64\n",
       "arterial_blood_pressure_diastolic    float64\n",
       "arterial_blood_pressure_mean         float64\n",
       "dod_label                            float64\n",
       "dtype: object"
      ]
     },
     "execution_count": 3,
     "metadata": {},
     "output_type": "execute_result"
    }
   ],
   "source": [
    "df.dtypes"
   ]
  },
  {
   "cell_type": "code",
   "execution_count": 50,
   "id": "40d20c97",
   "metadata": {},
   "outputs": [],
   "source": [
    "conn = psycopg2.connect(database=\"postgres\",\n",
    "                        user='postgres', password='kartikay', \n",
    "                        host='127.0.0.1', port='5432'\n",
    ")"
   ]
  },
  {
   "cell_type": "code",
   "execution_count": 51,
   "id": "139d86e4",
   "metadata": {},
   "outputs": [],
   "source": [
    "conn.autocommit = True\n",
    "cursor = conn.cursor()"
   ]
  },
  {
   "cell_type": "code",
   "execution_count": 53,
   "id": "fb236b95",
   "metadata": {},
   "outputs": [],
   "source": [
    "sql = '''CREATE TABLE MIMIC (\n",
    "   subject_id NUMERIC,\n",
    "   hadm_id NUMERIC,\n",
    "   group_id NUMERIC,\n",
    "   rel_day NUMERIC,\n",
    "   age NUMERIC,\n",
    "   gender_m NUMERIC,\n",
    "   marital_status_divorced NUMERIC,\n",
    "   marital_status_life_partner NUMERIC,\n",
    "   marital_status_married NUMERIC,\n",
    "   marital_status_separated NUMERIC,\n",
    "   marital_status_single NUMERIC,\n",
    "   marital_status_unknown_default NUMERIC,\n",
    "   marital_status_widowed NUMERIC,\n",
    "   bmi NUMERIC,\n",
    "   heart_rate NUMERIC,\n",
    "   flag_heart_rate_alarm_low NUMERIC,\n",
    "   flag_heart_rate_alarm_high NUMERIC,\n",
    "   oxygen_saturation NUMERIC,\n",
    "   flag_oxygen_saturation_alarm_high NUMERIC,\n",
    "   flag_oxygen_saturation_alarm_low NUMERIC,\n",
    "   arterial_blood_pressure_systolic NUMERIC,\n",
    "   arterial_blood_pressure_diastolic NUMERIC,\n",
    "   arterial_blood_pressure_mean NUMERIC,\n",
    "   dod_label NUMERIC\n",
    ");'''"
   ]
  },
  {
   "cell_type": "code",
   "execution_count": 54,
   "id": "3d675023",
   "metadata": {},
   "outputs": [],
   "source": [
    "cursor.execute(sql)"
   ]
  },
  {
   "cell_type": "code",
   "execution_count": 55,
   "id": "4353ba79",
   "metadata": {},
   "outputs": [],
   "source": [
    "sql2 = '''COPY MIMIC(subject_id,\n",
    "hadm_id,\n",
    "group_id,\n",
    "rel_day,\n",
    "age,gender_m,\n",
    "marital_status_divorced,\n",
    "marital_status_life_partner,\n",
    "marital_status_married,\n",
    "marital_status_separated,\n",
    "marital_status_single,\n",
    "marital_status_unknown_default,\n",
    "marital_status_widowed,\n",
    "bmi,\n",
    "heart_rate,\n",
    "flag_heart_rate_alarm_low,\n",
    "flag_heart_rate_alarm_high,\n",
    "oxygen_saturation,\n",
    "flag_oxygen_saturation_alarm_high,\n",
    "flag_oxygen_saturation_alarm_low,\n",
    "arterial_blood_pressure_systolic,\n",
    "arterial_blood_pressure_diastolic,\n",
    "arterial_blood_pressure_mean,\n",
    "dod_label)\n",
    "FROM 'C:/Users/karti/PycharmProjects/Master_Thesis/SQL/MIMIC.csv'\n",
    "DELIMITER ','\n",
    "CSV HEADER;'''"
   ]
  },
  {
   "cell_type": "code",
   "execution_count": 56,
   "id": "9333dd59",
   "metadata": {},
   "outputs": [],
   "source": [
    "cursor.execute(sql2)"
   ]
  },
  {
   "cell_type": "code",
   "execution_count": 57,
   "id": "bd90f888",
   "metadata": {},
   "outputs": [],
   "source": [
    "df.to_csv('MIMIC_WITHOUT_OUTLIERS_ITERATIVE_IMPUTATION.csv', index=False)"
   ]
  },
  {
   "cell_type": "code",
   "execution_count": null,
   "id": "ebda2edb",
   "metadata": {},
   "outputs": [],
   "source": []
  }
 ],
 "metadata": {
  "kernelspec": {
   "display_name": "Python 3 (ipykernel)",
   "language": "python",
   "name": "python3"
  },
  "language_info": {
   "codemirror_mode": {
    "name": "ipython",
    "version": 3
   },
   "file_extension": ".py",
   "mimetype": "text/x-python",
   "name": "python",
   "nbconvert_exporter": "python",
   "pygments_lexer": "ipython3",
   "version": "3.9.13"
  }
 },
 "nbformat": 4,
 "nbformat_minor": 5
}
