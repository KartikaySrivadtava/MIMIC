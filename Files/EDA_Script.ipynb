{
 "cells": [
  {
   "cell_type": "code",
   "execution_count": 217,
   "id": "308d4870",
   "metadata": {},
   "outputs": [],
   "source": [
    "# Final EDA\n",
    "# importing packages\n",
    "import seaborn as sns\n",
    "import matplotlib.pyplot as plt\n",
    "import pandas as pd\n",
    "import numpy as np\n",
    "pd.set_option(\"display.max_rows\", None, \"display.max_columns\", None)\n",
    "from scipy import stats\n",
    "import warnings\n",
    "warnings.filterwarnings('ignore')\n",
    "from numpy import percentile\n",
    "from sklearn.impute import SimpleImputer"
   ]
  },
  {
   "cell_type": "code",
   "execution_count": 218,
   "id": "3db6af06",
   "metadata": {},
   "outputs": [],
   "source": [
    "df=pd.read_csv('')"
   ]
  },
  {
   "cell_type": "code",
   "execution_count": 219,
   "id": "bd7a7159",
   "metadata": {},
   "outputs": [
    {
     "data": {
      "text/html": [
       "<div>\n",
       "<style scoped>\n",
       "    .dataframe tbody tr th:only-of-type {\n",
       "        vertical-align: middle;\n",
       "    }\n",
       "\n",
       "    .dataframe tbody tr th {\n",
       "        vertical-align: top;\n",
       "    }\n",
       "\n",
       "    .dataframe thead th {\n",
       "        text-align: right;\n",
       "    }\n",
       "</style>\n",
       "<table border=\"1\" class=\"dataframe\">\n",
       "  <thead>\n",
       "    <tr style=\"text-align: right;\">\n",
       "      <th></th>\n",
       "      <th>SUBJECT_ID</th>\n",
       "      <th>HADM_ID</th>\n",
       "      <th>DISEASE_DURATION</th>\n",
       "      <th>AGE</th>\n",
       "      <th>GENDER_M</th>\n",
       "      <th>MARITAL_STATUS_DIVORCED</th>\n",
       "      <th>MARITAL_STATUS_LIFE PARTNER</th>\n",
       "      <th>MARITAL_STATUS_MARRIED</th>\n",
       "      <th>MARITAL_STATUS_SEPARATED</th>\n",
       "      <th>MARITAL_STATUS_SINGLE</th>\n",
       "      <th>MARITAL_STATUS_UNKNOWN (DEFAULT)</th>\n",
       "      <th>MARITAL_STATUS_WIDOWED</th>\n",
       "      <th>REL_DAY</th>\n",
       "      <th>BMI</th>\n",
       "      <th>Heart Rate</th>\n",
       "      <th>Flag_Heart_Rate_Alarm_Low</th>\n",
       "      <th>Flag_Heart_rate_Alarm_High</th>\n",
       "      <th>Oxygen_Saturation</th>\n",
       "      <th>Flag_Oxygen_Saturation_Alarm_High</th>\n",
       "      <th>Flag_Oxygen_Saturation_Alarm_Low</th>\n",
       "      <th>Arterial_Blood_Pressure_Systolic</th>\n",
       "      <th>Arterial_Blood_Pressure_Diastolic</th>\n",
       "      <th>Arterial_Blood_Pressure_Mean</th>\n",
       "      <th>GROUP_ID</th>\n",
       "      <th>DOD_LABEL</th>\n",
       "    </tr>\n",
       "  </thead>\n",
       "  <tbody>\n",
       "    <tr>\n",
       "      <th>0</th>\n",
       "      <td>124.0</td>\n",
       "      <td>112906.0</td>\n",
       "      <td>7.497222</td>\n",
       "      <td>71.123288</td>\n",
       "      <td>1.0</td>\n",
       "      <td>0.0</td>\n",
       "      <td>0.0</td>\n",
       "      <td>1.0</td>\n",
       "      <td>0.0</td>\n",
       "      <td>0.0</td>\n",
       "      <td>0.0</td>\n",
       "      <td>0.0</td>\n",
       "      <td>0.0</td>\n",
       "      <td>24.740484</td>\n",
       "      <td>75.407407</td>\n",
       "      <td>0.0</td>\n",
       "      <td>0.0</td>\n",
       "      <td>96.250000</td>\n",
       "      <td>1.0</td>\n",
       "      <td>1.0</td>\n",
       "      <td>103.678571</td>\n",
       "      <td>56.071429</td>\n",
       "      <td>74.769231</td>\n",
       "      <td>124112906.0</td>\n",
       "      <td>0.0</td>\n",
       "    </tr>\n",
       "    <tr>\n",
       "      <th>1</th>\n",
       "      <td>124.0</td>\n",
       "      <td>112906.0</td>\n",
       "      <td>7.497222</td>\n",
       "      <td>71.123288</td>\n",
       "      <td>1.0</td>\n",
       "      <td>0.0</td>\n",
       "      <td>0.0</td>\n",
       "      <td>1.0</td>\n",
       "      <td>0.0</td>\n",
       "      <td>0.0</td>\n",
       "      <td>0.0</td>\n",
       "      <td>0.0</td>\n",
       "      <td>1.0</td>\n",
       "      <td>24.740484</td>\n",
       "      <td>79.040816</td>\n",
       "      <td>0.0</td>\n",
       "      <td>0.0</td>\n",
       "      <td>97.297872</td>\n",
       "      <td>1.0</td>\n",
       "      <td>1.0</td>\n",
       "      <td>105.979592</td>\n",
       "      <td>54.918367</td>\n",
       "      <td>75.812500</td>\n",
       "      <td>124112906.0</td>\n",
       "      <td>0.0</td>\n",
       "    </tr>\n",
       "    <tr>\n",
       "      <th>2</th>\n",
       "      <td>124.0</td>\n",
       "      <td>112906.0</td>\n",
       "      <td>7.497222</td>\n",
       "      <td>71.123288</td>\n",
       "      <td>1.0</td>\n",
       "      <td>0.0</td>\n",
       "      <td>0.0</td>\n",
       "      <td>1.0</td>\n",
       "      <td>0.0</td>\n",
       "      <td>0.0</td>\n",
       "      <td>0.0</td>\n",
       "      <td>0.0</td>\n",
       "      <td>2.0</td>\n",
       "      <td>24.740484</td>\n",
       "      <td>74.714286</td>\n",
       "      <td>0.0</td>\n",
       "      <td>0.0</td>\n",
       "      <td>98.000000</td>\n",
       "      <td>1.0</td>\n",
       "      <td>1.0</td>\n",
       "      <td>110.428571</td>\n",
       "      <td>56.142857</td>\n",
       "      <td>87.857143</td>\n",
       "      <td>124112906.0</td>\n",
       "      <td>0.0</td>\n",
       "    </tr>\n",
       "    <tr>\n",
       "      <th>3</th>\n",
       "      <td>124.0</td>\n",
       "      <td>112906.0</td>\n",
       "      <td>7.497222</td>\n",
       "      <td>71.123288</td>\n",
       "      <td>1.0</td>\n",
       "      <td>0.0</td>\n",
       "      <td>0.0</td>\n",
       "      <td>1.0</td>\n",
       "      <td>0.0</td>\n",
       "      <td>0.0</td>\n",
       "      <td>0.0</td>\n",
       "      <td>0.0</td>\n",
       "      <td>3.0</td>\n",
       "      <td>24.740484</td>\n",
       "      <td>76.857143</td>\n",
       "      <td>0.0</td>\n",
       "      <td>0.0</td>\n",
       "      <td>97.619048</td>\n",
       "      <td>1.0</td>\n",
       "      <td>1.0</td>\n",
       "      <td>120.285714</td>\n",
       "      <td>59.809524</td>\n",
       "      <td>81.285714</td>\n",
       "      <td>124112906.0</td>\n",
       "      <td>0.0</td>\n",
       "    </tr>\n",
       "    <tr>\n",
       "      <th>4</th>\n",
       "      <td>124.0</td>\n",
       "      <td>112906.0</td>\n",
       "      <td>7.497222</td>\n",
       "      <td>71.123288</td>\n",
       "      <td>1.0</td>\n",
       "      <td>0.0</td>\n",
       "      <td>0.0</td>\n",
       "      <td>1.0</td>\n",
       "      <td>0.0</td>\n",
       "      <td>0.0</td>\n",
       "      <td>0.0</td>\n",
       "      <td>0.0</td>\n",
       "      <td>4.0</td>\n",
       "      <td>24.740484</td>\n",
       "      <td>79.450000</td>\n",
       "      <td>0.0</td>\n",
       "      <td>0.0</td>\n",
       "      <td>97.500000</td>\n",
       "      <td>1.0</td>\n",
       "      <td>1.0</td>\n",
       "      <td>107.700000</td>\n",
       "      <td>61.250000</td>\n",
       "      <td>79.800000</td>\n",
       "      <td>124112906.0</td>\n",
       "      <td>0.0</td>\n",
       "    </tr>\n",
       "  </tbody>\n",
       "</table>\n",
       "</div>"
      ],
      "text/plain": [
       "   SUBJECT_ID   HADM_ID  DISEASE_DURATION        AGE  GENDER_M  \\\n",
       "0       124.0  112906.0          7.497222  71.123288       1.0   \n",
       "1       124.0  112906.0          7.497222  71.123288       1.0   \n",
       "2       124.0  112906.0          7.497222  71.123288       1.0   \n",
       "3       124.0  112906.0          7.497222  71.123288       1.0   \n",
       "4       124.0  112906.0          7.497222  71.123288       1.0   \n",
       "\n",
       "   MARITAL_STATUS_DIVORCED  MARITAL_STATUS_LIFE PARTNER  \\\n",
       "0                      0.0                          0.0   \n",
       "1                      0.0                          0.0   \n",
       "2                      0.0                          0.0   \n",
       "3                      0.0                          0.0   \n",
       "4                      0.0                          0.0   \n",
       "\n",
       "   MARITAL_STATUS_MARRIED  MARITAL_STATUS_SEPARATED  MARITAL_STATUS_SINGLE  \\\n",
       "0                     1.0                       0.0                    0.0   \n",
       "1                     1.0                       0.0                    0.0   \n",
       "2                     1.0                       0.0                    0.0   \n",
       "3                     1.0                       0.0                    0.0   \n",
       "4                     1.0                       0.0                    0.0   \n",
       "\n",
       "   MARITAL_STATUS_UNKNOWN (DEFAULT)  MARITAL_STATUS_WIDOWED  REL_DAY  \\\n",
       "0                               0.0                     0.0      0.0   \n",
       "1                               0.0                     0.0      1.0   \n",
       "2                               0.0                     0.0      2.0   \n",
       "3                               0.0                     0.0      3.0   \n",
       "4                               0.0                     0.0      4.0   \n",
       "\n",
       "         BMI  Heart Rate  Flag_Heart_Rate_Alarm_Low  \\\n",
       "0  24.740484   75.407407                        0.0   \n",
       "1  24.740484   79.040816                        0.0   \n",
       "2  24.740484   74.714286                        0.0   \n",
       "3  24.740484   76.857143                        0.0   \n",
       "4  24.740484   79.450000                        0.0   \n",
       "\n",
       "   Flag_Heart_rate_Alarm_High  Oxygen_Saturation  \\\n",
       "0                         0.0          96.250000   \n",
       "1                         0.0          97.297872   \n",
       "2                         0.0          98.000000   \n",
       "3                         0.0          97.619048   \n",
       "4                         0.0          97.500000   \n",
       "\n",
       "   Flag_Oxygen_Saturation_Alarm_High  Flag_Oxygen_Saturation_Alarm_Low  \\\n",
       "0                                1.0                               1.0   \n",
       "1                                1.0                               1.0   \n",
       "2                                1.0                               1.0   \n",
       "3                                1.0                               1.0   \n",
       "4                                1.0                               1.0   \n",
       "\n",
       "   Arterial_Blood_Pressure_Systolic  Arterial_Blood_Pressure_Diastolic  \\\n",
       "0                        103.678571                          56.071429   \n",
       "1                        105.979592                          54.918367   \n",
       "2                        110.428571                          56.142857   \n",
       "3                        120.285714                          59.809524   \n",
       "4                        107.700000                          61.250000   \n",
       "\n",
       "   Arterial_Blood_Pressure_Mean     GROUP_ID  DOD_LABEL  \n",
       "0                     74.769231  124112906.0        0.0  \n",
       "1                     75.812500  124112906.0        0.0  \n",
       "2                     87.857143  124112906.0        0.0  \n",
       "3                     81.285714  124112906.0        0.0  \n",
       "4                     79.800000  124112906.0        0.0  "
      ]
     },
     "execution_count": 219,
     "metadata": {},
     "output_type": "execute_result"
    }
   ],
   "source": [
    "df.head()"
   ]
  },
  {
   "cell_type": "code",
   "execution_count": 220,
   "id": "e7fbb4db",
   "metadata": {},
   "outputs": [
    {
     "data": {
      "text/plain": [
       "1759"
      ]
     },
     "execution_count": 220,
     "metadata": {},
     "output_type": "execute_result"
    }
   ],
   "source": [
    "df.SUBJECT_ID.nunique()"
   ]
  },
  {
   "cell_type": "code",
   "execution_count": 221,
   "id": "90cbadc3",
   "metadata": {},
   "outputs": [
    {
     "data": {
      "text/plain": [
       "Index(['SUBJECT_ID', 'HADM_ID', 'DISEASE_DURATION', 'AGE', 'GENDER_M',\n",
       "       'MARITAL_STATUS_DIVORCED', 'MARITAL_STATUS_LIFE PARTNER',\n",
       "       'MARITAL_STATUS_MARRIED', 'MARITAL_STATUS_SEPARATED',\n",
       "       'MARITAL_STATUS_SINGLE', 'MARITAL_STATUS_UNKNOWN (DEFAULT)',\n",
       "       'MARITAL_STATUS_WIDOWED', 'REL_DAY', 'BMI', 'Heart Rate',\n",
       "       'Flag_Heart_Rate_Alarm_Low', 'Flag_Heart_rate_Alarm_High',\n",
       "       'Oxygen_Saturation', 'Flag_Oxygen_Saturation_Alarm_High',\n",
       "       'Flag_Oxygen_Saturation_Alarm_Low', 'Arterial_Blood_Pressure_Systolic',\n",
       "       'Arterial_Blood_Pressure_Diastolic', 'Arterial_Blood_Pressure_Mean',\n",
       "       'GROUP_ID', 'DOD_LABEL'],\n",
       "      dtype='object')"
      ]
     },
     "execution_count": 221,
     "metadata": {},
     "output_type": "execute_result"
    }
   ],
   "source": [
    "df.columns"
   ]
  },
  {
   "cell_type": "code",
   "execution_count": 222,
   "id": "61f755a7",
   "metadata": {},
   "outputs": [
    {
     "data": {
      "text/plain": [
       "SUBJECT_ID                           0.0\n",
       "HADM_ID                              0.0\n",
       "DISEASE_DURATION                     0.0\n",
       "AGE                                  0.0\n",
       "GENDER_M                             0.0\n",
       "MARITAL_STATUS_DIVORCED              0.0\n",
       "MARITAL_STATUS_LIFE PARTNER          0.0\n",
       "MARITAL_STATUS_MARRIED               0.0\n",
       "MARITAL_STATUS_SEPARATED             0.0\n",
       "MARITAL_STATUS_SINGLE                0.0\n",
       "MARITAL_STATUS_UNKNOWN (DEFAULT)     0.0\n",
       "MARITAL_STATUS_WIDOWED               0.0\n",
       "REL_DAY                              0.0\n",
       "BMI                                  0.0\n",
       "Heart Rate                           0.0\n",
       "Flag_Heart_Rate_Alarm_Low            0.0\n",
       "Flag_Heart_rate_Alarm_High           0.0\n",
       "Oxygen_Saturation                    0.0\n",
       "Flag_Oxygen_Saturation_Alarm_High    0.0\n",
       "Flag_Oxygen_Saturation_Alarm_Low     0.0\n",
       "Arterial_Blood_Pressure_Systolic     0.0\n",
       "Arterial_Blood_Pressure_Diastolic    0.0\n",
       "Arterial_Blood_Pressure_Mean         0.0\n",
       "GROUP_ID                             0.0\n",
       "DOD_LABEL                            0.0\n",
       "dtype: float64"
      ]
     },
     "execution_count": 222,
     "metadata": {},
     "output_type": "execute_result"
    }
   ],
   "source": [
    "df.isnull().mean()*100"
   ]
  },
  {
   "cell_type": "code",
   "execution_count": 223,
   "id": "54689298",
   "metadata": {},
   "outputs": [
    {
     "data": {
      "text/plain": [
       "1497388.9619377162"
      ]
     },
     "execution_count": 223,
     "metadata": {},
     "output_type": "execute_result"
    }
   ],
   "source": [
    "df.BMI.max()"
   ]
  },
  {
   "cell_type": "code",
   "execution_count": 224,
   "id": "15e27f32",
   "metadata": {},
   "outputs": [
    {
     "data": {
      "text/plain": [
       "0.0"
      ]
     },
     "execution_count": 224,
     "metadata": {},
     "output_type": "execute_result"
    }
   ],
   "source": [
    "df.BMI.min()"
   ]
  },
  {
   "cell_type": "code",
   "execution_count": 225,
   "id": "fb638221",
   "metadata": {},
   "outputs": [
    {
     "data": {
      "text/plain": [
       "(26.337006181134107, 39.63244585261338)"
      ]
     },
     "execution_count": 225,
     "metadata": {},
     "output_type": "execute_result"
    }
   ],
   "source": [
    "Q1 = df.BMI.quantile(0.25)\n",
    "Q3 = df.BMI.quantile(0.75)\n",
    "Q1, Q3"
   ]
  },
  {
   "cell_type": "code",
   "execution_count": 226,
   "id": "c05cf578",
   "metadata": {},
   "outputs": [
    {
     "data": {
      "text/plain": [
       "13.295439671479272"
      ]
     },
     "execution_count": 226,
     "metadata": {},
     "output_type": "execute_result"
    }
   ],
   "source": [
    "IQR = Q3 - Q1\n",
    "IQR"
   ]
  },
  {
   "cell_type": "code",
   "execution_count": 227,
   "id": "1cadd271",
   "metadata": {},
   "outputs": [
    {
     "data": {
      "text/plain": [
       "(6.393846673915199, 59.57560535983229)"
      ]
     },
     "execution_count": 227,
     "metadata": {},
     "output_type": "execute_result"
    }
   ],
   "source": [
    "lower_limit = Q1 - 1.5*IQR\n",
    "upper_limit = Q3 + 1.5*IQR\n",
    "lower_limit, upper_limit"
   ]
  },
  {
   "cell_type": "code",
   "execution_count": 228,
   "id": "c2548eda",
   "metadata": {},
   "outputs": [],
   "source": [
    "df = df[(df.BMI>lower_limit)&(df.BMI<upper_limit)]"
   ]
  },
  {
   "cell_type": "code",
   "execution_count": 229,
   "id": "5790ca4b",
   "metadata": {},
   "outputs": [
    {
     "data": {
      "text/plain": [
       "1736"
      ]
     },
     "execution_count": 229,
     "metadata": {},
     "output_type": "execute_result"
    }
   ],
   "source": [
    "df.SUBJECT_ID.nunique()"
   ]
  },
  {
   "cell_type": "code",
   "execution_count": 230,
   "id": "359e18b3",
   "metadata": {},
   "outputs": [
    {
     "data": {
      "text/plain": [
       "count    16611.000000\n",
       "mean        31.096803\n",
       "std          7.706744\n",
       "min         10.030864\n",
       "25%         25.675740\n",
       "50%         29.898830\n",
       "75%         34.840237\n",
       "max         59.541446\n",
       "Name: BMI, dtype: float64"
      ]
     },
     "execution_count": 230,
     "metadata": {},
     "output_type": "execute_result"
    }
   ],
   "source": [
    "df['BMI'].describe()"
   ]
  },
  {
   "cell_type": "code",
   "execution_count": 233,
   "id": "51bf3297",
   "metadata": {},
   "outputs": [
    {
     "data": {
      "text/plain": [
       "<AxesSubplot: xlabel='BMI', ylabel='Count'>"
      ]
     },
     "execution_count": 233,
     "metadata": {},
     "output_type": "execute_result"
    },
    {
     "data": {
      "image/png": "[encoded data removed]",
      "text/plain": [
       "<Figure size 640x480 with 1 Axes>"
      ]
     },
     "metadata": {},
     "output_type": "display_data"
    }
   ],
   "source": [
    "sns.histplot(data=df, x=df['BMI'])"
   ]
  },
  {
   "cell_type": "code",
   "execution_count": 235,
   "id": "0b6d6ccb",
   "metadata": {},
   "outputs": [],
   "source": [
    "df = df.rename(columns={'Heart Rate': 'Heart_Rate'})"
   ]
  },
  {
   "cell_type": "code",
   "execution_count": 236,
   "id": "4efb05e1",
   "metadata": {},
   "outputs": [
    {
     "data": {
      "text/plain": [
       "count    16611.000000\n",
       "mean        85.896894\n",
       "std         14.985109\n",
       "min         32.846154\n",
       "25%         75.240000\n",
       "50%         84.750000\n",
       "75%         95.550505\n",
       "max        338.708333\n",
       "Name: Heart_Rate, dtype: float64"
      ]
     },
     "execution_count": 236,
     "metadata": {},
     "output_type": "execute_result"
    }
   ],
   "source": [
    "df['Heart_Rate'].describe()"
   ]
  },
  {
   "cell_type": "code",
   "execution_count": 237,
   "id": "a2b60ff5",
   "metadata": {},
   "outputs": [
    {
     "data": {
      "text/plain": [
       "<AxesSubplot: xlabel='Heart_Rate', ylabel='Count'>"
      ]
     },
     "execution_count": 237,
     "metadata": {},
     "output_type": "execute_result"
    },
    {
     "data": {
      "image/png": "[encoded data removed]",
      "text/plain": [
       "<Figure size 640x480 with 1 Axes>"
      ]
     },
     "metadata": {},
     "output_type": "display_data"
    }
   ],
   "source": [
    "sns.histplot(data=df, x=df['Heart_Rate'])"
   ]
  },
  {
   "cell_type": "code",
   "execution_count": 239,
   "id": "9055ca82",
   "metadata": {},
   "outputs": [
    {
     "data": {
      "text/plain": [
       "(75.24, 95.55050505050505)"
      ]
     },
     "execution_count": 239,
     "metadata": {},
     "output_type": "execute_result"
    }
   ],
   "source": [
    "Q1 = df.Heart_Rate.quantile(0.25)\n",
    "Q3 = df.Heart_Rate.quantile(0.75)\n",
    "Q1, Q3"
   ]
  },
  {
   "cell_type": "code",
   "execution_count": 240,
   "id": "07bc5a7a",
   "metadata": {},
   "outputs": [
    {
     "data": {
      "text/plain": [
       "20.310505050505057"
      ]
     },
     "execution_count": 240,
     "metadata": {},
     "output_type": "execute_result"
    }
   ],
   "source": [
    "IQR = Q3 - Q1\n",
    "IQR"
   ]
  },
  {
   "cell_type": "code",
   "execution_count": 241,
   "id": "77e2fb11",
   "metadata": {},
   "outputs": [
    {
     "data": {
      "text/plain": [
       "(44.77424242424241, 126.01626262626263)"
      ]
     },
     "execution_count": 241,
     "metadata": {},
     "output_type": "execute_result"
    }
   ],
   "source": [
    "lower_limit = Q1 - 1.5*IQR\n",
    "upper_limit = Q3 + 1.5*IQR\n",
    "lower_limit, upper_limit"
   ]
  },
  {
   "cell_type": "code",
   "execution_count": 242,
   "id": "5c2670f8",
   "metadata": {},
   "outputs": [],
   "source": [
    "df = df[(df.Heart_Rate>lower_limit)&(df.Heart_Rate<upper_limit)]"
   ]
  },
  {
   "cell_type": "code",
   "execution_count": 243,
   "id": "98fc81af",
   "metadata": {},
   "outputs": [
    {
     "data": {
      "text/plain": [
       "1733"
      ]
     },
     "execution_count": 243,
     "metadata": {},
     "output_type": "execute_result"
    }
   ],
   "source": [
    "df.SUBJECT_ID.nunique()"
   ]
  },
  {
   "cell_type": "code",
   "execution_count": 244,
   "id": "cdc63362",
   "metadata": {},
   "outputs": [
    {
     "data": {
      "text/plain": [
       "<AxesSubplot: xlabel='Heart_Rate', ylabel='Count'>"
      ]
     },
     "execution_count": 244,
     "metadata": {},
     "output_type": "execute_result"
    },
    {
     "data": {
      "image/png": "[encoded data removed]",
      "text/plain": [
       "<Figure size 640x480 with 1 Axes>"
      ]
     },
     "metadata": {},
     "output_type": "display_data"
    }
   ],
   "source": [
    "sns.histplot(data=df, x=df['Heart_Rate'])"
   ]
  },
  {
   "cell_type": "code",
   "execution_count": 246,
   "id": "27a553ee",
   "metadata": {},
   "outputs": [
    {
     "data": {
      "text/plain": [
       "<AxesSubplot: xlabel='Oxygen_Saturation', ylabel='Count'>"
      ]
     },
     "execution_count": 246,
     "metadata": {},
     "output_type": "execute_result"
    },
    {
     "data": {
      "image/png": "[encoded data removed]",
      "text/plain": [
       "<Figure size 640x480 with 1 Axes>"
      ]
     },
     "metadata": {},
     "output_type": "display_data"
    }
   ],
   "source": [
    "sns.histplot(data=df, x=df['Oxygen_Saturation'])"
   ]
  },
  {
   "cell_type": "code",
   "execution_count": 247,
   "id": "dcc0cc2b",
   "metadata": {},
   "outputs": [
    {
     "data": {
      "text/plain": [
       "(91.48611111111111, 102.8564814814815)"
      ]
     },
     "execution_count": 247,
     "metadata": {},
     "output_type": "execute_result"
    }
   ],
   "source": [
    "Q1 = df.Oxygen_Saturation.quantile(0.25)\n",
    "Q3 = df.Oxygen_Saturation.quantile(0.75)\n",
    "IQR = Q3 - Q1\n",
    "lower_limit = Q1 - 1.5*IQR\n",
    "upper_limit = Q3 + 1.5*IQR\n",
    "lower_limit, upper_limit"
   ]
  },
  {
   "cell_type": "code",
   "execution_count": 248,
   "id": "2877ce5a",
   "metadata": {},
   "outputs": [],
   "source": [
    "df = df[(df.Oxygen_Saturation>lower_limit)&(df.Oxygen_Saturation<upper_limit)]"
   ]
  },
  {
   "cell_type": "code",
   "execution_count": 249,
   "id": "b689cf80",
   "metadata": {},
   "outputs": [
    {
     "data": {
      "text/plain": [
       "count    16198.000000\n",
       "mean        97.089388\n",
       "std          1.862385\n",
       "min         91.500000\n",
       "25%         95.800000\n",
       "50%         97.240000\n",
       "75%         98.600000\n",
       "max        100.000000\n",
       "Name: Oxygen_Saturation, dtype: float64"
      ]
     },
     "execution_count": 249,
     "metadata": {},
     "output_type": "execute_result"
    }
   ],
   "source": [
    "df.Oxygen_Saturation.describe()"
   ]
  },
  {
   "cell_type": "code",
   "execution_count": 250,
   "id": "f825e217",
   "metadata": {},
   "outputs": [
    {
     "data": {
      "text/plain": [
       "<AxesSubplot: xlabel='Oxygen_Saturation', ylabel='Count'>"
      ]
     },
     "execution_count": 250,
     "metadata": {},
     "output_type": "execute_result"
    },
    {
     "data": {
      "image/png": "[encoded data removed]",
      "text/plain": [
       "<Figure size 640x480 with 1 Axes>"
      ]
     },
     "metadata": {},
     "output_type": "display_data"
    }
   ],
   "source": [
    "sns.histplot(data=df, x=df['Oxygen_Saturation'])"
   ]
  },
  {
   "cell_type": "code",
   "execution_count": 251,
   "id": "933f2603",
   "metadata": {},
   "outputs": [
    {
     "data": {
      "text/plain": [
       "1729"
      ]
     },
     "execution_count": 251,
     "metadata": {},
     "output_type": "execute_result"
    }
   ],
   "source": [
    "df.SUBJECT_ID.nunique()"
   ]
  },
  {
   "cell_type": "code",
   "execution_count": 252,
   "id": "c2b7e3dd",
   "metadata": {},
   "outputs": [
    {
     "data": {
      "text/plain": [
       "count    16198.000000\n",
       "mean       119.377978\n",
       "std         18.697811\n",
       "min          0.000000\n",
       "25%        107.824544\n",
       "50%        119.136146\n",
       "75%        128.500000\n",
       "max        210.142857\n",
       "Name: Arterial_Blood_Pressure_Systolic, dtype: float64"
      ]
     },
     "execution_count": 252,
     "metadata": {},
     "output_type": "execute_result"
    }
   ],
   "source": [
    "df.Arterial_Blood_Pressure_Systolic.describe()"
   ]
  },
  {
   "cell_type": "code",
   "execution_count": 253,
   "id": "8a8239e8",
   "metadata": {},
   "outputs": [
    {
     "data": {
      "text/plain": [
       "<AxesSubplot: xlabel='Arterial_Blood_Pressure_Systolic', ylabel='Count'>"
      ]
     },
     "execution_count": 253,
     "metadata": {},
     "output_type": "execute_result"
    },
    {
     "data": {
      "image/png": "[encoded data removed]",
      "text/plain": [
       "<Figure size 640x480 with 1 Axes>"
      ]
     },
     "metadata": {},
     "output_type": "display_data"
    }
   ],
   "source": [
    "sns.histplot(data=df, x=df['Arterial_Blood_Pressure_Systolic'])"
   ]
  },
  {
   "cell_type": "code",
   "execution_count": 254,
   "id": "cfd48f19",
   "metadata": {},
   "outputs": [
    {
     "data": {
      "text/plain": [
       "(76.81135902636919, 159.51318458417848)"
      ]
     },
     "execution_count": 254,
     "metadata": {},
     "output_type": "execute_result"
    }
   ],
   "source": [
    "Q1 = df.Arterial_Blood_Pressure_Systolic.quantile(0.25)\n",
    "Q3 = df.Arterial_Blood_Pressure_Systolic.quantile(0.75)\n",
    "IQR = Q3 - Q1\n",
    "lower_limit = Q1 - 1.5*IQR\n",
    "upper_limit = Q3 + 1.5*IQR\n",
    "lower_limit, upper_limit"
   ]
  },
  {
   "cell_type": "code",
   "execution_count": 255,
   "id": "8468035b",
   "metadata": {},
   "outputs": [],
   "source": [
    "df = df[(df.Arterial_Blood_Pressure_Systolic>lower_limit)&(df.Arterial_Blood_Pressure_Systolic<upper_limit)]"
   ]
  },
  {
   "cell_type": "code",
   "execution_count": 256,
   "id": "a5262089",
   "metadata": {},
   "outputs": [
    {
     "data": {
      "text/plain": [
       "count    15559.000000\n",
       "mean       118.327799\n",
       "std         15.636718\n",
       "min         76.961538\n",
       "25%        107.750000\n",
       "50%        119.136146\n",
       "75%        126.961310\n",
       "max        159.500000\n",
       "Name: Arterial_Blood_Pressure_Systolic, dtype: float64"
      ]
     },
     "execution_count": 256,
     "metadata": {},
     "output_type": "execute_result"
    }
   ],
   "source": [
    "df.Arterial_Blood_Pressure_Systolic.describe()"
   ]
  },
  {
   "cell_type": "code",
   "execution_count": 257,
   "id": "9a997d4a",
   "metadata": {},
   "outputs": [
    {
     "data": {
      "text/plain": [
       "<AxesSubplot: xlabel='Arterial_Blood_Pressure_Systolic', ylabel='Count'>"
      ]
     },
     "execution_count": 257,
     "metadata": {},
     "output_type": "execute_result"
    },
    {
     "data": {
      "image/png": "[encoded data removed]",
      "text/plain": [
       "<Figure size 640x480 with 1 Axes>"
      ]
     },
     "metadata": {},
     "output_type": "display_data"
    }
   ],
   "source": [
    "sns.histplot(data=df, x=df['Arterial_Blood_Pressure_Systolic'])"
   ]
  },
  {
   "cell_type": "code",
   "execution_count": 258,
   "id": "9260e8e3",
   "metadata": {},
   "outputs": [
    {
     "data": {
      "text/plain": [
       "count    15559.000000\n",
       "mean        60.162176\n",
       "std         44.275918\n",
       "min         18.857143\n",
       "25%         52.333333\n",
       "50%         60.000000\n",
       "75%         63.500000\n",
       "max       2960.572143\n",
       "Name: Arterial_Blood_Pressure_Diastolic, dtype: float64"
      ]
     },
     "execution_count": 258,
     "metadata": {},
     "output_type": "execute_result"
    }
   ],
   "source": [
    "df.Arterial_Blood_Pressure_Diastolic.describe()"
   ]
  },
  {
   "cell_type": "code",
   "execution_count": 259,
   "id": "490eb9e3",
   "metadata": {},
   "outputs": [
    {
     "data": {
      "text/plain": [
       "<AxesSubplot: xlabel='Arterial_Blood_Pressure_Diastolic', ylabel='Count'>"
      ]
     },
     "execution_count": 259,
     "metadata": {},
     "output_type": "execute_result"
    },
    {
     "data": {
      "image/png": "[encoded data removed]",
      "text/plain": [
       "<Figure size 640x480 with 1 Axes>"
      ]
     },
     "metadata": {},
     "output_type": "display_data"
    }
   ],
   "source": [
    "sns.histplot(data=df, x=df['Arterial_Blood_Pressure_Diastolic'])"
   ]
  },
  {
   "cell_type": "code",
   "execution_count": 260,
   "id": "980c698a",
   "metadata": {},
   "outputs": [
    {
     "data": {
      "text/plain": [
       "(35.58333333333334, 80.25)"
      ]
     },
     "execution_count": 260,
     "metadata": {},
     "output_type": "execute_result"
    }
   ],
   "source": [
    "Q1 = df.Arterial_Blood_Pressure_Diastolic.quantile(0.25)\n",
    "Q3 = df.Arterial_Blood_Pressure_Diastolic.quantile(0.75)\n",
    "IQR = Q3 - Q1\n",
    "lower_limit = Q1 - 1.5*IQR\n",
    "upper_limit = Q3 + 1.5*IQR\n",
    "lower_limit, upper_limit"
   ]
  },
  {
   "cell_type": "code",
   "execution_count": 261,
   "id": "f5768ca1",
   "metadata": {},
   "outputs": [],
   "source": [
    "df = df[(df.Arterial_Blood_Pressure_Diastolic>lower_limit)&(df.Arterial_Blood_Pressure_Diastolic<upper_limit)]"
   ]
  },
  {
   "cell_type": "code",
   "execution_count": 262,
   "id": "c98c0310",
   "metadata": {},
   "outputs": [
    {
     "data": {
      "text/plain": [
       "count    14913.000000\n",
       "mean        58.142919\n",
       "std          8.587916\n",
       "min         35.666667\n",
       "25%         52.100000\n",
       "50%         59.482759\n",
       "75%         62.333333\n",
       "max         80.192308\n",
       "Name: Arterial_Blood_Pressure_Diastolic, dtype: float64"
      ]
     },
     "execution_count": 262,
     "metadata": {},
     "output_type": "execute_result"
    }
   ],
   "source": [
    "df.Arterial_Blood_Pressure_Diastolic.describe()"
   ]
  },
  {
   "cell_type": "code",
   "execution_count": 263,
   "id": "9dbf7410",
   "metadata": {},
   "outputs": [
    {
     "data": {
      "text/plain": [
       "<AxesSubplot: xlabel='Arterial_Blood_Pressure_Diastolic', ylabel='Count'>"
      ]
     },
     "execution_count": 263,
     "metadata": {},
     "output_type": "execute_result"
    },
    {
     "data": {
      "image/png": "[encoded data removed]",
      "text/plain": [
       "<Figure size 640x480 with 1 Axes>"
      ]
     },
     "metadata": {},
     "output_type": "display_data"
    }
   ],
   "source": [
    "sns.histplot(data=df, x=df['Arterial_Blood_Pressure_Diastolic'])"
   ]
  },
  {
   "cell_type": "code",
   "execution_count": 265,
   "id": "eb73c16e",
   "metadata": {},
   "outputs": [
    {
     "data": {
      "text/plain": [
       "Index(['SUBJECT_ID', 'HADM_ID', 'DISEASE_DURATION', 'AGE', 'GENDER_M',\n",
       "       'MARITAL_STATUS_DIVORCED', 'MARITAL_STATUS_LIFE PARTNER',\n",
       "       'MARITAL_STATUS_MARRIED', 'MARITAL_STATUS_SEPARATED',\n",
       "       'MARITAL_STATUS_SINGLE', 'MARITAL_STATUS_UNKNOWN (DEFAULT)',\n",
       "       'MARITAL_STATUS_WIDOWED', 'REL_DAY', 'BMI', 'Heart_Rate',\n",
       "       'Flag_Heart_Rate_Alarm_Low', 'Flag_Heart_rate_Alarm_High',\n",
       "       'Oxygen_Saturation', 'Flag_Oxygen_Saturation_Alarm_High',\n",
       "       'Flag_Oxygen_Saturation_Alarm_Low', 'Arterial_Blood_Pressure_Systolic',\n",
       "       'Arterial_Blood_Pressure_Diastolic', 'Arterial_Blood_Pressure_Mean',\n",
       "       'GROUP_ID', 'DOD_LABEL'],\n",
       "      dtype='object')"
      ]
     },
     "execution_count": 265,
     "metadata": {},
     "output_type": "execute_result"
    }
   ],
   "source": [
    "df.columns"
   ]
  },
  {
   "cell_type": "code",
   "execution_count": 266,
   "id": "ccd411ba",
   "metadata": {},
   "outputs": [
    {
     "data": {
      "text/plain": [
       "count    14913.000000\n",
       "mean        79.104967\n",
       "std         19.179775\n",
       "min        -40.000000\n",
       "25%         71.454545\n",
       "50%         79.678571\n",
       "75%         84.000000\n",
       "max        428.833333\n",
       "Name: Arterial_Blood_Pressure_Mean, dtype: float64"
      ]
     },
     "execution_count": 266,
     "metadata": {},
     "output_type": "execute_result"
    }
   ],
   "source": [
    "df.Arterial_Blood_Pressure_Mean.describe()"
   ]
  },
  {
   "cell_type": "code",
   "execution_count": 267,
   "id": "f5bc5ac1",
   "metadata": {},
   "outputs": [
    {
     "data": {
      "text/plain": [
       "(52.63636363636363, 102.81818181818181)"
      ]
     },
     "execution_count": 267,
     "metadata": {},
     "output_type": "execute_result"
    }
   ],
   "source": [
    "Q1 = df.Arterial_Blood_Pressure_Mean.quantile(0.25)\n",
    "Q3 = df.Arterial_Blood_Pressure_Mean.quantile(0.75)\n",
    "IQR = Q3 - Q1\n",
    "lower_limit = Q1 - 1.5*IQR\n",
    "upper_limit = Q3 + 1.5*IQR\n",
    "lower_limit, upper_limit"
   ]
  },
  {
   "cell_type": "code",
   "execution_count": 268,
   "id": "36ad300f",
   "metadata": {},
   "outputs": [
    {
     "data": {
      "text/plain": [
       "<AxesSubplot: xlabel='Arterial_Blood_Pressure_Mean', ylabel='Count'>"
      ]
     },
     "execution_count": 268,
     "metadata": {},
     "output_type": "execute_result"
    },
    {
     "data": {
      "image/png": "[encoded data removed]",
      "text/plain": [
       "<Figure size 640x480 with 1 Axes>"
      ]
     },
     "metadata": {},
     "output_type": "display_data"
    }
   ],
   "source": [
    "sns.histplot(data=df, x=df['Arterial_Blood_Pressure_Mean'])"
   ]
  },
  {
   "cell_type": "code",
   "execution_count": 269,
   "id": "f81b2b69",
   "metadata": {},
   "outputs": [],
   "source": [
    "df = df[(df.Arterial_Blood_Pressure_Mean>lower_limit)&(df.Arterial_Blood_Pressure_Mean<upper_limit)]"
   ]
  },
  {
   "cell_type": "code",
   "execution_count": 270,
   "id": "630f0386",
   "metadata": {},
   "outputs": [
    {
     "data": {
      "text/plain": [
       "count    14344.000000\n",
       "mean        78.360923\n",
       "std          9.426353\n",
       "min         52.666667\n",
       "25%         71.571429\n",
       "50%         79.375000\n",
       "75%         83.272917\n",
       "max        102.800000\n",
       "Name: Arterial_Blood_Pressure_Mean, dtype: float64"
      ]
     },
     "execution_count": 270,
     "metadata": {},
     "output_type": "execute_result"
    }
   ],
   "source": [
    "df.Arterial_Blood_Pressure_Mean.describe()"
   ]
  },
  {
   "cell_type": "code",
   "execution_count": 271,
   "id": "298dae26",
   "metadata": {},
   "outputs": [
    {
     "data": {
      "text/plain": [
       "<AxesSubplot: xlabel='Arterial_Blood_Pressure_Mean', ylabel='Count'>"
      ]
     },
     "execution_count": 271,
     "metadata": {},
     "output_type": "execute_result"
    },
    {
     "data": {
      "image/png": "[encoded data removed]",
      "text/plain": [
       "<Figure size 640x480 with 1 Axes>"
      ]
     },
     "metadata": {},
     "output_type": "display_data"
    }
   ],
   "source": [
    "sns.histplot(data=df, x=df['Arterial_Blood_Pressure_Mean'])"
   ]
  },
  {
   "cell_type": "code",
   "execution_count": 272,
   "id": "8e36bc95",
   "metadata": {},
   "outputs": [
    {
     "data": {
      "text/plain": [
       "<AxesSubplot: xlabel='DISEASE_DURATION', ylabel='Count'>"
      ]
     },
     "execution_count": 272,
     "metadata": {},
     "output_type": "execute_result"
    },
    {
     "data": {
      "image/png": "[encoded data removed]",
      "text/plain": [
       "<Figure size 640x480 with 1 Axes>"
      ]
     },
     "metadata": {},
     "output_type": "display_data"
    }
   ],
   "source": [
    "sns.histplot(data=df, x=df['DISEASE_DURATION'])"
   ]
  },
  {
   "cell_type": "code",
   "execution_count": 275,
   "id": "c60a518a",
   "metadata": {},
   "outputs": [
    {
     "data": {
      "text/plain": [
       "<AxesSubplot: xlabel='AGE', ylabel='Count'>"
      ]
     },
     "execution_count": 275,
     "metadata": {},
     "output_type": "execute_result"
    },
    {
     "data": {
      "image/png": "[encoded data removed]",
      "text/plain": [
       "<Figure size 640x480 with 1 Axes>"
      ]
     },
     "metadata": {},
     "output_type": "display_data"
    }
   ],
   "source": [
    "sns.histplot(data=df, x=df['AGE'])"
   ]
  },
  {
   "cell_type": "code",
   "execution_count": 276,
   "id": "cd3bc722",
   "metadata": {},
   "outputs": [
    {
     "data": {
      "text/plain": [
       "count    14344.000000\n",
       "mean        70.531106\n",
       "std         12.931071\n",
       "min         20.802740\n",
       "25%         62.328767\n",
       "50%         72.416438\n",
       "75%         80.627397\n",
       "max         89.060274\n",
       "Name: AGE, dtype: float64"
      ]
     },
     "execution_count": 276,
     "metadata": {},
     "output_type": "execute_result"
    }
   ],
   "source": [
    "df.AGE.describe()"
   ]
  },
  {
   "cell_type": "code",
   "execution_count": 305,
   "id": "4515a5a7",
   "metadata": {},
   "outputs": [
    {
     "data": {
      "text/plain": [
       "1703"
      ]
     },
     "execution_count": 305,
     "metadata": {},
     "output_type": "execute_result"
    }
   ],
   "source": [
    "df.SUBJECT_ID.nunique()"
   ]
  },
  {
   "cell_type": "code",
   "execution_count": 278,
   "id": "e67233b1",
   "metadata": {},
   "outputs": [
    {
     "data": {
      "text/html": [
       "<div>\n",
       "<style scoped>\n",
       "    .dataframe tbody tr th:only-of-type {\n",
       "        vertical-align: middle;\n",
       "    }\n",
       "\n",
       "    .dataframe tbody tr th {\n",
       "        vertical-align: top;\n",
       "    }\n",
       "\n",
       "    .dataframe thead th {\n",
       "        text-align: right;\n",
       "    }\n",
       "</style>\n",
       "<table border=\"1\" class=\"dataframe\">\n",
       "  <thead>\n",
       "    <tr style=\"text-align: right;\">\n",
       "      <th></th>\n",
       "      <th>ROW_ID</th>\n",
       "      <th>SUBJECT_ID</th>\n",
       "      <th>HADM_ID</th>\n",
       "      <th>ADMITTIME</th>\n",
       "      <th>DISCHTIME</th>\n",
       "      <th>DEATHTIME</th>\n",
       "      <th>ADMISSION_TYPE</th>\n",
       "      <th>ADMISSION_LOCATION</th>\n",
       "      <th>DISCHARGE_LOCATION</th>\n",
       "      <th>INSURANCE</th>\n",
       "      <th>LANGUAGE</th>\n",
       "      <th>RELIGION</th>\n",
       "      <th>MARITAL_STATUS</th>\n",
       "      <th>ETHNICITY</th>\n",
       "      <th>EDREGTIME</th>\n",
       "      <th>EDOUTTIME</th>\n",
       "      <th>DIAGNOSIS</th>\n",
       "      <th>HOSPITAL_EXPIRE_FLAG</th>\n",
       "      <th>HAS_CHARTEVENTS_DATA</th>\n",
       "    </tr>\n",
       "  </thead>\n",
       "  <tbody>\n",
       "    <tr>\n",
       "      <th>0</th>\n",
       "      <td>21</td>\n",
       "      <td>22</td>\n",
       "      <td>165315</td>\n",
       "      <td>2196-04-09 12:26:00</td>\n",
       "      <td>2196-04-10 15:54:00</td>\n",
       "      <td>NaN</td>\n",
       "      <td>EMERGENCY</td>\n",
       "      <td>EMERGENCY ROOM ADMIT</td>\n",
       "      <td>DISC-TRAN CANCER/CHLDRN H</td>\n",
       "      <td>Private</td>\n",
       "      <td>NaN</td>\n",
       "      <td>UNOBTAINABLE</td>\n",
       "      <td>MARRIED</td>\n",
       "      <td>WHITE</td>\n",
       "      <td>2196-04-09 10:06:00</td>\n",
       "      <td>2196-04-09 13:24:00</td>\n",
       "      <td>BENZODIAZEPINE OVERDOSE</td>\n",
       "      <td>0</td>\n",
       "      <td>1</td>\n",
       "    </tr>\n",
       "    <tr>\n",
       "      <th>1</th>\n",
       "      <td>22</td>\n",
       "      <td>23</td>\n",
       "      <td>152223</td>\n",
       "      <td>2153-09-03 07:15:00</td>\n",
       "      <td>2153-09-08 19:10:00</td>\n",
       "      <td>NaN</td>\n",
       "      <td>ELECTIVE</td>\n",
       "      <td>PHYS REFERRAL/NORMAL DELI</td>\n",
       "      <td>HOME HEALTH CARE</td>\n",
       "      <td>Medicare</td>\n",
       "      <td>NaN</td>\n",
       "      <td>CATHOLIC</td>\n",
       "      <td>MARRIED</td>\n",
       "      <td>WHITE</td>\n",
       "      <td>NaN</td>\n",
       "      <td>NaN</td>\n",
       "      <td>CORONARY ARTERY DISEASE\\CORONARY ARTERY BYPASS...</td>\n",
       "      <td>0</td>\n",
       "      <td>1</td>\n",
       "    </tr>\n",
       "    <tr>\n",
       "      <th>2</th>\n",
       "      <td>23</td>\n",
       "      <td>23</td>\n",
       "      <td>124321</td>\n",
       "      <td>2157-10-18 19:34:00</td>\n",
       "      <td>2157-10-25 14:00:00</td>\n",
       "      <td>NaN</td>\n",
       "      <td>EMERGENCY</td>\n",
       "      <td>TRANSFER FROM HOSP/EXTRAM</td>\n",
       "      <td>HOME HEALTH CARE</td>\n",
       "      <td>Medicare</td>\n",
       "      <td>ENGL</td>\n",
       "      <td>CATHOLIC</td>\n",
       "      <td>MARRIED</td>\n",
       "      <td>WHITE</td>\n",
       "      <td>NaN</td>\n",
       "      <td>NaN</td>\n",
       "      <td>BRAIN MASS</td>\n",
       "      <td>0</td>\n",
       "      <td>1</td>\n",
       "    </tr>\n",
       "    <tr>\n",
       "      <th>3</th>\n",
       "      <td>24</td>\n",
       "      <td>24</td>\n",
       "      <td>161859</td>\n",
       "      <td>2139-06-06 16:14:00</td>\n",
       "      <td>2139-06-09 12:48:00</td>\n",
       "      <td>NaN</td>\n",
       "      <td>EMERGENCY</td>\n",
       "      <td>TRANSFER FROM HOSP/EXTRAM</td>\n",
       "      <td>HOME</td>\n",
       "      <td>Private</td>\n",
       "      <td>NaN</td>\n",
       "      <td>PROTESTANT QUAKER</td>\n",
       "      <td>SINGLE</td>\n",
       "      <td>WHITE</td>\n",
       "      <td>NaN</td>\n",
       "      <td>NaN</td>\n",
       "      <td>INTERIOR MYOCARDIAL INFARCTION</td>\n",
       "      <td>0</td>\n",
       "      <td>1</td>\n",
       "    </tr>\n",
       "    <tr>\n",
       "      <th>4</th>\n",
       "      <td>25</td>\n",
       "      <td>25</td>\n",
       "      <td>129635</td>\n",
       "      <td>2160-11-02 02:06:00</td>\n",
       "      <td>2160-11-05 14:55:00</td>\n",
       "      <td>NaN</td>\n",
       "      <td>EMERGENCY</td>\n",
       "      <td>EMERGENCY ROOM ADMIT</td>\n",
       "      <td>HOME</td>\n",
       "      <td>Private</td>\n",
       "      <td>NaN</td>\n",
       "      <td>UNOBTAINABLE</td>\n",
       "      <td>MARRIED</td>\n",
       "      <td>WHITE</td>\n",
       "      <td>2160-11-02 01:01:00</td>\n",
       "      <td>2160-11-02 04:27:00</td>\n",
       "      <td>ACUTE CORONARY SYNDROME</td>\n",
       "      <td>0</td>\n",
       "      <td>1</td>\n",
       "    </tr>\n",
       "  </tbody>\n",
       "</table>\n",
       "</div>"
      ],
      "text/plain": [
       "   ROW_ID  SUBJECT_ID  HADM_ID            ADMITTIME            DISCHTIME  \\\n",
       "0      21          22   165315  2196-04-09 12:26:00  2196-04-10 15:54:00   \n",
       "1      22          23   152223  2153-09-03 07:15:00  2153-09-08 19:10:00   \n",
       "2      23          23   124321  2157-10-18 19:34:00  2157-10-25 14:00:00   \n",
       "3      24          24   161859  2139-06-06 16:14:00  2139-06-09 12:48:00   \n",
       "4      25          25   129635  2160-11-02 02:06:00  2160-11-05 14:55:00   \n",
       "\n",
       "  DEATHTIME ADMISSION_TYPE         ADMISSION_LOCATION  \\\n",
       "0       NaN      EMERGENCY       EMERGENCY ROOM ADMIT   \n",
       "1       NaN       ELECTIVE  PHYS REFERRAL/NORMAL DELI   \n",
       "2       NaN      EMERGENCY  TRANSFER FROM HOSP/EXTRAM   \n",
       "3       NaN      EMERGENCY  TRANSFER FROM HOSP/EXTRAM   \n",
       "4       NaN      EMERGENCY       EMERGENCY ROOM ADMIT   \n",
       "\n",
       "          DISCHARGE_LOCATION INSURANCE LANGUAGE           RELIGION  \\\n",
       "0  DISC-TRAN CANCER/CHLDRN H   Private      NaN       UNOBTAINABLE   \n",
       "1           HOME HEALTH CARE  Medicare      NaN           CATHOLIC   \n",
       "2           HOME HEALTH CARE  Medicare     ENGL           CATHOLIC   \n",
       "3                       HOME   Private      NaN  PROTESTANT QUAKER   \n",
       "4                       HOME   Private      NaN       UNOBTAINABLE   \n",
       "\n",
       "  MARITAL_STATUS ETHNICITY            EDREGTIME            EDOUTTIME  \\\n",
       "0        MARRIED     WHITE  2196-04-09 10:06:00  2196-04-09 13:24:00   \n",
       "1        MARRIED     WHITE                  NaN                  NaN   \n",
       "2        MARRIED     WHITE                  NaN                  NaN   \n",
       "3         SINGLE     WHITE                  NaN                  NaN   \n",
       "4        MARRIED     WHITE  2160-11-02 01:01:00  2160-11-02 04:27:00   \n",
       "\n",
       "                                           DIAGNOSIS  HOSPITAL_EXPIRE_FLAG  \\\n",
       "0                            BENZODIAZEPINE OVERDOSE                     0   \n",
       "1  CORONARY ARTERY DISEASE\\CORONARY ARTERY BYPASS...                     0   \n",
       "2                                         BRAIN MASS                     0   \n",
       "3                     INTERIOR MYOCARDIAL INFARCTION                     0   \n",
       "4                            ACUTE CORONARY SYNDROME                     0   \n",
       "\n",
       "   HAS_CHARTEVENTS_DATA  \n",
       "0                     1  \n",
       "1                     1  \n",
       "2                     1  \n",
       "3                     1  \n",
       "4                     1  "
      ]
     },
     "execution_count": 278,
     "metadata": {},
     "output_type": "execute_result"
    }
   ],
   "source": [
    "df2 = pd.read_csv('C:/Users/karti/PycharmProjects/Master_Thesis/ADMISSIONS.csv')\n",
    "df2.head()"
   ]
  },
  {
   "cell_type": "code",
   "execution_count": 279,
   "id": "bf869be9",
   "metadata": {},
   "outputs": [],
   "source": [
    "new_df = pd.merge(df, df2,  how='left', left_on=['SUBJECT_ID','HADM_ID'], right_on = ['SUBJECT_ID','HADM_ID'])"
   ]
  },
  {
   "cell_type": "code",
   "execution_count": 281,
   "id": "40a12b09",
   "metadata": {},
   "outputs": [
    {
     "data": {
      "text/html": [
       "<div>\n",
       "<style scoped>\n",
       "    .dataframe tbody tr th:only-of-type {\n",
       "        vertical-align: middle;\n",
       "    }\n",
       "\n",
       "    .dataframe tbody tr th {\n",
       "        vertical-align: top;\n",
       "    }\n",
       "\n",
       "    .dataframe thead th {\n",
       "        text-align: right;\n",
       "    }\n",
       "</style>\n",
       "<table border=\"1\" class=\"dataframe\">\n",
       "  <thead>\n",
       "    <tr style=\"text-align: right;\">\n",
       "      <th></th>\n",
       "      <th>SUBJECT_ID</th>\n",
       "      <th>HADM_ID</th>\n",
       "      <th>DISEASE_DURATION</th>\n",
       "      <th>AGE</th>\n",
       "      <th>GENDER_M</th>\n",
       "      <th>MARITAL_STATUS_DIVORCED</th>\n",
       "      <th>MARITAL_STATUS_LIFE PARTNER</th>\n",
       "      <th>MARITAL_STATUS_MARRIED</th>\n",
       "      <th>MARITAL_STATUS_SEPARATED</th>\n",
       "      <th>MARITAL_STATUS_SINGLE</th>\n",
       "      <th>MARITAL_STATUS_UNKNOWN (DEFAULT)</th>\n",
       "      <th>MARITAL_STATUS_WIDOWED</th>\n",
       "      <th>REL_DAY</th>\n",
       "      <th>BMI</th>\n",
       "      <th>Heart_Rate</th>\n",
       "      <th>Flag_Heart_Rate_Alarm_Low</th>\n",
       "      <th>Flag_Heart_rate_Alarm_High</th>\n",
       "      <th>Oxygen_Saturation</th>\n",
       "      <th>Flag_Oxygen_Saturation_Alarm_High</th>\n",
       "      <th>Flag_Oxygen_Saturation_Alarm_Low</th>\n",
       "      <th>Arterial_Blood_Pressure_Systolic</th>\n",
       "      <th>Arterial_Blood_Pressure_Diastolic</th>\n",
       "      <th>Arterial_Blood_Pressure_Mean</th>\n",
       "      <th>GROUP_ID</th>\n",
       "      <th>DOD_LABEL</th>\n",
       "      <th>ROW_ID</th>\n",
       "      <th>ADMITTIME</th>\n",
       "      <th>DISCHTIME</th>\n",
       "      <th>DEATHTIME</th>\n",
       "      <th>ADMISSION_TYPE</th>\n",
       "      <th>ADMISSION_LOCATION</th>\n",
       "      <th>DISCHARGE_LOCATION</th>\n",
       "      <th>INSURANCE</th>\n",
       "      <th>LANGUAGE</th>\n",
       "      <th>RELIGION</th>\n",
       "      <th>MARITAL_STATUS</th>\n",
       "      <th>ETHNICITY</th>\n",
       "      <th>EDREGTIME</th>\n",
       "      <th>EDOUTTIME</th>\n",
       "      <th>DIAGNOSIS</th>\n",
       "      <th>HOSPITAL_EXPIRE_FLAG</th>\n",
       "      <th>HAS_CHARTEVENTS_DATA</th>\n",
       "    </tr>\n",
       "  </thead>\n",
       "  <tbody>\n",
       "    <tr>\n",
       "      <th>0</th>\n",
       "      <td>124.0</td>\n",
       "      <td>112906.0</td>\n",
       "      <td>7.497222</td>\n",
       "      <td>71.123288</td>\n",
       "      <td>1.0</td>\n",
       "      <td>0.0</td>\n",
       "      <td>0.0</td>\n",
       "      <td>1.0</td>\n",
       "      <td>0.0</td>\n",
       "      <td>0.0</td>\n",
       "      <td>0.0</td>\n",
       "      <td>0.0</td>\n",
       "      <td>0.0</td>\n",
       "      <td>24.740484</td>\n",
       "      <td>75.407407</td>\n",
       "      <td>0.0</td>\n",
       "      <td>0.0</td>\n",
       "      <td>96.250000</td>\n",
       "      <td>1.0</td>\n",
       "      <td>1.0</td>\n",
       "      <td>103.678571</td>\n",
       "      <td>56.071429</td>\n",
       "      <td>74.769231</td>\n",
       "      <td>124112906.0</td>\n",
       "      <td>0.0</td>\n",
       "      <td>167</td>\n",
       "      <td>2161-12-17 03:39:00</td>\n",
       "      <td>2161-12-24 15:35:00</td>\n",
       "      <td>NaN</td>\n",
       "      <td>EMERGENCY</td>\n",
       "      <td>EMERGENCY ROOM ADMIT</td>\n",
       "      <td>HOME</td>\n",
       "      <td>Medicare</td>\n",
       "      <td>NaN</td>\n",
       "      <td>CATHOLIC</td>\n",
       "      <td>MARRIED</td>\n",
       "      <td>WHITE</td>\n",
       "      <td>2161-12-16 18:57:00</td>\n",
       "      <td>2161-12-17 12:35:00</td>\n",
       "      <td>CHEST PAIN,R/O MI</td>\n",
       "      <td>0</td>\n",
       "      <td>1</td>\n",
       "    </tr>\n",
       "    <tr>\n",
       "      <th>1</th>\n",
       "      <td>124.0</td>\n",
       "      <td>112906.0</td>\n",
       "      <td>7.497222</td>\n",
       "      <td>71.123288</td>\n",
       "      <td>1.0</td>\n",
       "      <td>0.0</td>\n",
       "      <td>0.0</td>\n",
       "      <td>1.0</td>\n",
       "      <td>0.0</td>\n",
       "      <td>0.0</td>\n",
       "      <td>0.0</td>\n",
       "      <td>0.0</td>\n",
       "      <td>1.0</td>\n",
       "      <td>24.740484</td>\n",
       "      <td>79.040816</td>\n",
       "      <td>0.0</td>\n",
       "      <td>0.0</td>\n",
       "      <td>97.297872</td>\n",
       "      <td>1.0</td>\n",
       "      <td>1.0</td>\n",
       "      <td>105.979592</td>\n",
       "      <td>54.918367</td>\n",
       "      <td>75.812500</td>\n",
       "      <td>124112906.0</td>\n",
       "      <td>0.0</td>\n",
       "      <td>167</td>\n",
       "      <td>2161-12-17 03:39:00</td>\n",
       "      <td>2161-12-24 15:35:00</td>\n",
       "      <td>NaN</td>\n",
       "      <td>EMERGENCY</td>\n",
       "      <td>EMERGENCY ROOM ADMIT</td>\n",
       "      <td>HOME</td>\n",
       "      <td>Medicare</td>\n",
       "      <td>NaN</td>\n",
       "      <td>CATHOLIC</td>\n",
       "      <td>MARRIED</td>\n",
       "      <td>WHITE</td>\n",
       "      <td>2161-12-16 18:57:00</td>\n",
       "      <td>2161-12-17 12:35:00</td>\n",
       "      <td>CHEST PAIN,R/O MI</td>\n",
       "      <td>0</td>\n",
       "      <td>1</td>\n",
       "    </tr>\n",
       "    <tr>\n",
       "      <th>2</th>\n",
       "      <td>124.0</td>\n",
       "      <td>112906.0</td>\n",
       "      <td>7.497222</td>\n",
       "      <td>71.123288</td>\n",
       "      <td>1.0</td>\n",
       "      <td>0.0</td>\n",
       "      <td>0.0</td>\n",
       "      <td>1.0</td>\n",
       "      <td>0.0</td>\n",
       "      <td>0.0</td>\n",
       "      <td>0.0</td>\n",
       "      <td>0.0</td>\n",
       "      <td>2.0</td>\n",
       "      <td>24.740484</td>\n",
       "      <td>74.714286</td>\n",
       "      <td>0.0</td>\n",
       "      <td>0.0</td>\n",
       "      <td>98.000000</td>\n",
       "      <td>1.0</td>\n",
       "      <td>1.0</td>\n",
       "      <td>110.428571</td>\n",
       "      <td>56.142857</td>\n",
       "      <td>87.857143</td>\n",
       "      <td>124112906.0</td>\n",
       "      <td>0.0</td>\n",
       "      <td>167</td>\n",
       "      <td>2161-12-17 03:39:00</td>\n",
       "      <td>2161-12-24 15:35:00</td>\n",
       "      <td>NaN</td>\n",
       "      <td>EMERGENCY</td>\n",
       "      <td>EMERGENCY ROOM ADMIT</td>\n",
       "      <td>HOME</td>\n",
       "      <td>Medicare</td>\n",
       "      <td>NaN</td>\n",
       "      <td>CATHOLIC</td>\n",
       "      <td>MARRIED</td>\n",
       "      <td>WHITE</td>\n",
       "      <td>2161-12-16 18:57:00</td>\n",
       "      <td>2161-12-17 12:35:00</td>\n",
       "      <td>CHEST PAIN,R/O MI</td>\n",
       "      <td>0</td>\n",
       "      <td>1</td>\n",
       "    </tr>\n",
       "    <tr>\n",
       "      <th>3</th>\n",
       "      <td>124.0</td>\n",
       "      <td>112906.0</td>\n",
       "      <td>7.497222</td>\n",
       "      <td>71.123288</td>\n",
       "      <td>1.0</td>\n",
       "      <td>0.0</td>\n",
       "      <td>0.0</td>\n",
       "      <td>1.0</td>\n",
       "      <td>0.0</td>\n",
       "      <td>0.0</td>\n",
       "      <td>0.0</td>\n",
       "      <td>0.0</td>\n",
       "      <td>3.0</td>\n",
       "      <td>24.740484</td>\n",
       "      <td>76.857143</td>\n",
       "      <td>0.0</td>\n",
       "      <td>0.0</td>\n",
       "      <td>97.619048</td>\n",
       "      <td>1.0</td>\n",
       "      <td>1.0</td>\n",
       "      <td>120.285714</td>\n",
       "      <td>59.809524</td>\n",
       "      <td>81.285714</td>\n",
       "      <td>124112906.0</td>\n",
       "      <td>0.0</td>\n",
       "      <td>167</td>\n",
       "      <td>2161-12-17 03:39:00</td>\n",
       "      <td>2161-12-24 15:35:00</td>\n",
       "      <td>NaN</td>\n",
       "      <td>EMERGENCY</td>\n",
       "      <td>EMERGENCY ROOM ADMIT</td>\n",
       "      <td>HOME</td>\n",
       "      <td>Medicare</td>\n",
       "      <td>NaN</td>\n",
       "      <td>CATHOLIC</td>\n",
       "      <td>MARRIED</td>\n",
       "      <td>WHITE</td>\n",
       "      <td>2161-12-16 18:57:00</td>\n",
       "      <td>2161-12-17 12:35:00</td>\n",
       "      <td>CHEST PAIN,R/O MI</td>\n",
       "      <td>0</td>\n",
       "      <td>1</td>\n",
       "    </tr>\n",
       "    <tr>\n",
       "      <th>4</th>\n",
       "      <td>124.0</td>\n",
       "      <td>112906.0</td>\n",
       "      <td>7.497222</td>\n",
       "      <td>71.123288</td>\n",
       "      <td>1.0</td>\n",
       "      <td>0.0</td>\n",
       "      <td>0.0</td>\n",
       "      <td>1.0</td>\n",
       "      <td>0.0</td>\n",
       "      <td>0.0</td>\n",
       "      <td>0.0</td>\n",
       "      <td>0.0</td>\n",
       "      <td>4.0</td>\n",
       "      <td>24.740484</td>\n",
       "      <td>79.450000</td>\n",
       "      <td>0.0</td>\n",
       "      <td>0.0</td>\n",
       "      <td>97.500000</td>\n",
       "      <td>1.0</td>\n",
       "      <td>1.0</td>\n",
       "      <td>107.700000</td>\n",
       "      <td>61.250000</td>\n",
       "      <td>79.800000</td>\n",
       "      <td>124112906.0</td>\n",
       "      <td>0.0</td>\n",
       "      <td>167</td>\n",
       "      <td>2161-12-17 03:39:00</td>\n",
       "      <td>2161-12-24 15:35:00</td>\n",
       "      <td>NaN</td>\n",
       "      <td>EMERGENCY</td>\n",
       "      <td>EMERGENCY ROOM ADMIT</td>\n",
       "      <td>HOME</td>\n",
       "      <td>Medicare</td>\n",
       "      <td>NaN</td>\n",
       "      <td>CATHOLIC</td>\n",
       "      <td>MARRIED</td>\n",
       "      <td>WHITE</td>\n",
       "      <td>2161-12-16 18:57:00</td>\n",
       "      <td>2161-12-17 12:35:00</td>\n",
       "      <td>CHEST PAIN,R/O MI</td>\n",
       "      <td>0</td>\n",
       "      <td>1</td>\n",
       "    </tr>\n",
       "  </tbody>\n",
       "</table>\n",
       "</div>"
      ],
      "text/plain": [
       "   SUBJECT_ID   HADM_ID  DISEASE_DURATION        AGE  GENDER_M  \\\n",
       "0       124.0  112906.0          7.497222  71.123288       1.0   \n",
       "1       124.0  112906.0          7.497222  71.123288       1.0   \n",
       "2       124.0  112906.0          7.497222  71.123288       1.0   \n",
       "3       124.0  112906.0          7.497222  71.123288       1.0   \n",
       "4       124.0  112906.0          7.497222  71.123288       1.0   \n",
       "\n",
       "   MARITAL_STATUS_DIVORCED  MARITAL_STATUS_LIFE PARTNER  \\\n",
       "0                      0.0                          0.0   \n",
       "1                      0.0                          0.0   \n",
       "2                      0.0                          0.0   \n",
       "3                      0.0                          0.0   \n",
       "4                      0.0                          0.0   \n",
       "\n",
       "   MARITAL_STATUS_MARRIED  MARITAL_STATUS_SEPARATED  MARITAL_STATUS_SINGLE  \\\n",
       "0                     1.0                       0.0                    0.0   \n",
       "1                     1.0                       0.0                    0.0   \n",
       "2                     1.0                       0.0                    0.0   \n",
       "3                     1.0                       0.0                    0.0   \n",
       "4                     1.0                       0.0                    0.0   \n",
       "\n",
       "   MARITAL_STATUS_UNKNOWN (DEFAULT)  MARITAL_STATUS_WIDOWED  REL_DAY  \\\n",
       "0                               0.0                     0.0      0.0   \n",
       "1                               0.0                     0.0      1.0   \n",
       "2                               0.0                     0.0      2.0   \n",
       "3                               0.0                     0.0      3.0   \n",
       "4                               0.0                     0.0      4.0   \n",
       "\n",
       "         BMI  Heart_Rate  Flag_Heart_Rate_Alarm_Low  \\\n",
       "0  24.740484   75.407407                        0.0   \n",
       "1  24.740484   79.040816                        0.0   \n",
       "2  24.740484   74.714286                        0.0   \n",
       "3  24.740484   76.857143                        0.0   \n",
       "4  24.740484   79.450000                        0.0   \n",
       "\n",
       "   Flag_Heart_rate_Alarm_High  Oxygen_Saturation  \\\n",
       "0                         0.0          96.250000   \n",
       "1                         0.0          97.297872   \n",
       "2                         0.0          98.000000   \n",
       "3                         0.0          97.619048   \n",
       "4                         0.0          97.500000   \n",
       "\n",
       "   Flag_Oxygen_Saturation_Alarm_High  Flag_Oxygen_Saturation_Alarm_Low  \\\n",
       "0                                1.0                               1.0   \n",
       "1                                1.0                               1.0   \n",
       "2                                1.0                               1.0   \n",
       "3                                1.0                               1.0   \n",
       "4                                1.0                               1.0   \n",
       "\n",
       "   Arterial_Blood_Pressure_Systolic  Arterial_Blood_Pressure_Diastolic  \\\n",
       "0                        103.678571                          56.071429   \n",
       "1                        105.979592                          54.918367   \n",
       "2                        110.428571                          56.142857   \n",
       "3                        120.285714                          59.809524   \n",
       "4                        107.700000                          61.250000   \n",
       "\n",
       "   Arterial_Blood_Pressure_Mean     GROUP_ID  DOD_LABEL  ROW_ID  \\\n",
       "0                     74.769231  124112906.0        0.0     167   \n",
       "1                     75.812500  124112906.0        0.0     167   \n",
       "2                     87.857143  124112906.0        0.0     167   \n",
       "3                     81.285714  124112906.0        0.0     167   \n",
       "4                     79.800000  124112906.0        0.0     167   \n",
       "\n",
       "             ADMITTIME            DISCHTIME DEATHTIME ADMISSION_TYPE  \\\n",
       "0  2161-12-17 03:39:00  2161-12-24 15:35:00       NaN      EMERGENCY   \n",
       "1  2161-12-17 03:39:00  2161-12-24 15:35:00       NaN      EMERGENCY   \n",
       "2  2161-12-17 03:39:00  2161-12-24 15:35:00       NaN      EMERGENCY   \n",
       "3  2161-12-17 03:39:00  2161-12-24 15:35:00       NaN      EMERGENCY   \n",
       "4  2161-12-17 03:39:00  2161-12-24 15:35:00       NaN      EMERGENCY   \n",
       "\n",
       "     ADMISSION_LOCATION DISCHARGE_LOCATION INSURANCE LANGUAGE  RELIGION  \\\n",
       "0  EMERGENCY ROOM ADMIT               HOME  Medicare      NaN  CATHOLIC   \n",
       "1  EMERGENCY ROOM ADMIT               HOME  Medicare      NaN  CATHOLIC   \n",
       "2  EMERGENCY ROOM ADMIT               HOME  Medicare      NaN  CATHOLIC   \n",
       "3  EMERGENCY ROOM ADMIT               HOME  Medicare      NaN  CATHOLIC   \n",
       "4  EMERGENCY ROOM ADMIT               HOME  Medicare      NaN  CATHOLIC   \n",
       "\n",
       "  MARITAL_STATUS ETHNICITY            EDREGTIME            EDOUTTIME  \\\n",
       "0        MARRIED     WHITE  2161-12-16 18:57:00  2161-12-17 12:35:00   \n",
       "1        MARRIED     WHITE  2161-12-16 18:57:00  2161-12-17 12:35:00   \n",
       "2        MARRIED     WHITE  2161-12-16 18:57:00  2161-12-17 12:35:00   \n",
       "3        MARRIED     WHITE  2161-12-16 18:57:00  2161-12-17 12:35:00   \n",
       "4        MARRIED     WHITE  2161-12-16 18:57:00  2161-12-17 12:35:00   \n",
       "\n",
       "           DIAGNOSIS  HOSPITAL_EXPIRE_FLAG  HAS_CHARTEVENTS_DATA  \n",
       "0  CHEST PAIN,R/O MI                     0                     1  \n",
       "1  CHEST PAIN,R/O MI                     0                     1  \n",
       "2  CHEST PAIN,R/O MI                     0                     1  \n",
       "3  CHEST PAIN,R/O MI                     0                     1  \n",
       "4  CHEST PAIN,R/O MI                     0                     1  "
      ]
     },
     "execution_count": 281,
     "metadata": {},
     "output_type": "execute_result"
    }
   ],
   "source": [
    "new_df.head()"
   ]
  },
  {
   "cell_type": "code",
   "execution_count": 284,
   "id": "01375467",
   "metadata": {},
   "outputs": [
    {
     "data": {
      "text/plain": [
       "count       14135\n",
       "unique          7\n",
       "top       MARRIED\n",
       "freq         7031\n",
       "Name: MARITAL_STATUS, dtype: object"
      ]
     },
     "execution_count": 284,
     "metadata": {},
     "output_type": "execute_result"
    }
   ],
   "source": [
    "new_df.MARITAL_STATUS.describe()"
   ]
  },
  {
   "cell_type": "code",
   "execution_count": 295,
   "id": "569d67af",
   "metadata": {},
   "outputs": [
    {
     "data": {
      "text/plain": [
       "Text(0, 0.5, 'Count')"
      ]
     },
     "execution_count": 295,
     "metadata": {},
     "output_type": "execute_result"
    },
    {
     "data": {
      "image/png": "[encoded data removed]",
      "text/plain": [
       "<Figure size 1500x600 with 1 Axes>"
      ]
     },
     "metadata": {},
     "output_type": "display_data"
    }
   ],
   "source": [
    "plt.figure(figsize=(15,6))\n",
    "sns.histplot(x=\"MARITAL_STATUS\", data=new_df)\n",
    "plt.xlabel(\"Marital Status\")\n",
    "plt.ylabel(\"Count\")"
   ]
  },
  {
   "cell_type": "code",
   "execution_count": 296,
   "id": "dbe8ddee",
   "metadata": {},
   "outputs": [
    {
     "data": {
      "text/html": [
       "<div>\n",
       "<style scoped>\n",
       "    .dataframe tbody tr th:only-of-type {\n",
       "        vertical-align: middle;\n",
       "    }\n",
       "\n",
       "    .dataframe tbody tr th {\n",
       "        vertical-align: top;\n",
       "    }\n",
       "\n",
       "    .dataframe thead th {\n",
       "        text-align: right;\n",
       "    }\n",
       "</style>\n",
       "<table border=\"1\" class=\"dataframe\">\n",
       "  <thead>\n",
       "    <tr style=\"text-align: right;\">\n",
       "      <th></th>\n",
       "      <th>ROW_ID</th>\n",
       "      <th>SUBJECT_ID</th>\n",
       "      <th>GENDER</th>\n",
       "      <th>DOB</th>\n",
       "      <th>DOD</th>\n",
       "      <th>DOD_HOSP</th>\n",
       "      <th>DOD_SSN</th>\n",
       "      <th>EXPIRE_FLAG</th>\n",
       "    </tr>\n",
       "  </thead>\n",
       "  <tbody>\n",
       "    <tr>\n",
       "      <th>0</th>\n",
       "      <td>234</td>\n",
       "      <td>249</td>\n",
       "      <td>F</td>\n",
       "      <td>2075-03-13 00:00:00</td>\n",
       "      <td>NaN</td>\n",
       "      <td>NaN</td>\n",
       "      <td>NaN</td>\n",
       "      <td>0</td>\n",
       "    </tr>\n",
       "    <tr>\n",
       "      <th>1</th>\n",
       "      <td>235</td>\n",
       "      <td>250</td>\n",
       "      <td>F</td>\n",
       "      <td>2164-12-27 00:00:00</td>\n",
       "      <td>2188-11-22 00:00:00</td>\n",
       "      <td>2188-11-22 00:00:00</td>\n",
       "      <td>NaN</td>\n",
       "      <td>1</td>\n",
       "    </tr>\n",
       "    <tr>\n",
       "      <th>2</th>\n",
       "      <td>236</td>\n",
       "      <td>251</td>\n",
       "      <td>M</td>\n",
       "      <td>2090-03-15 00:00:00</td>\n",
       "      <td>NaN</td>\n",
       "      <td>NaN</td>\n",
       "      <td>NaN</td>\n",
       "      <td>0</td>\n",
       "    </tr>\n",
       "    <tr>\n",
       "      <th>3</th>\n",
       "      <td>237</td>\n",
       "      <td>252</td>\n",
       "      <td>M</td>\n",
       "      <td>2078-03-06 00:00:00</td>\n",
       "      <td>NaN</td>\n",
       "      <td>NaN</td>\n",
       "      <td>NaN</td>\n",
       "      <td>0</td>\n",
       "    </tr>\n",
       "    <tr>\n",
       "      <th>4</th>\n",
       "      <td>238</td>\n",
       "      <td>253</td>\n",
       "      <td>F</td>\n",
       "      <td>2089-11-26 00:00:00</td>\n",
       "      <td>NaN</td>\n",
       "      <td>NaN</td>\n",
       "      <td>NaN</td>\n",
       "      <td>0</td>\n",
       "    </tr>\n",
       "  </tbody>\n",
       "</table>\n",
       "</div>"
      ],
      "text/plain": [
       "   ROW_ID  SUBJECT_ID GENDER                  DOB                  DOD  \\\n",
       "0     234         249      F  2075-03-13 00:00:00                  NaN   \n",
       "1     235         250      F  2164-12-27 00:00:00  2188-11-22 00:00:00   \n",
       "2     236         251      M  2090-03-15 00:00:00                  NaN   \n",
       "3     237         252      M  2078-03-06 00:00:00                  NaN   \n",
       "4     238         253      F  2089-11-26 00:00:00                  NaN   \n",
       "\n",
       "              DOD_HOSP DOD_SSN  EXPIRE_FLAG  \n",
       "0                  NaN     NaN            0  \n",
       "1  2188-11-22 00:00:00     NaN            1  \n",
       "2                  NaN     NaN            0  \n",
       "3                  NaN     NaN            0  \n",
       "4                  NaN     NaN            0  "
      ]
     },
     "execution_count": 296,
     "metadata": {},
     "output_type": "execute_result"
    }
   ],
   "source": [
    "df3 = pd.read_csv('C:/Users/karti/PycharmProjects/Master_Thesis/PATIENTS.csv')\n",
    "df3.head()"
   ]
  },
  {
   "cell_type": "code",
   "execution_count": 297,
   "id": "519f7f56",
   "metadata": {},
   "outputs": [],
   "source": [
    "new_df = pd.merge(new_df, df3,  how='left', left_on=['SUBJECT_ID'], right_on = ['SUBJECT_ID'])"
   ]
  },
  {
   "cell_type": "code",
   "execution_count": 299,
   "id": "f391428d",
   "metadata": {},
   "outputs": [
    {
     "data": {
      "text/plain": [
       "Index(['SUBJECT_ID', 'HADM_ID', 'DISEASE_DURATION', 'AGE', 'GENDER_M',\n",
       "       'MARITAL_STATUS_DIVORCED', 'MARITAL_STATUS_LIFE PARTNER',\n",
       "       'MARITAL_STATUS_MARRIED', 'MARITAL_STATUS_SEPARATED',\n",
       "       'MARITAL_STATUS_SINGLE', 'MARITAL_STATUS_UNKNOWN (DEFAULT)',\n",
       "       'MARITAL_STATUS_WIDOWED', 'REL_DAY', 'BMI', 'Heart_Rate',\n",
       "       'Flag_Heart_Rate_Alarm_Low', 'Flag_Heart_rate_Alarm_High',\n",
       "       'Oxygen_Saturation', 'Flag_Oxygen_Saturation_Alarm_High',\n",
       "       'Flag_Oxygen_Saturation_Alarm_Low', 'Arterial_Blood_Pressure_Systolic',\n",
       "       'Arterial_Blood_Pressure_Diastolic', 'Arterial_Blood_Pressure_Mean',\n",
       "       'GROUP_ID', 'DOD_LABEL', 'ROW_ID_x', 'ADMITTIME', 'DISCHTIME',\n",
       "       'DEATHTIME', 'ADMISSION_TYPE', 'ADMISSION_LOCATION',\n",
       "       'DISCHARGE_LOCATION', 'INSURANCE', 'LANGUAGE', 'RELIGION',\n",
       "       'MARITAL_STATUS', 'ETHNICITY', 'EDREGTIME', 'EDOUTTIME', 'DIAGNOSIS',\n",
       "       'HOSPITAL_EXPIRE_FLAG', 'HAS_CHARTEVENTS_DATA', 'ROW_ID_y', 'GENDER',\n",
       "       'DOB', 'DOD', 'DOD_HOSP', 'DOD_SSN', 'EXPIRE_FLAG'],\n",
       "      dtype='object')"
      ]
     },
     "execution_count": 299,
     "metadata": {},
     "output_type": "execute_result"
    }
   ],
   "source": [
    "new_df.columns"
   ]
  },
  {
   "cell_type": "code",
   "execution_count": 300,
   "id": "ec7cccce",
   "metadata": {},
   "outputs": [
    {
     "data": {
      "text/plain": [
       "count     14344\n",
       "unique        2\n",
       "top           M\n",
       "freq       8137\n",
       "Name: GENDER, dtype: object"
      ]
     },
     "execution_count": 300,
     "metadata": {},
     "output_type": "execute_result"
    }
   ],
   "source": [
    "new_df.GENDER.describe()"
   ]
  },
  {
   "cell_type": "code",
   "execution_count": 301,
   "id": "bf6d20e8",
   "metadata": {},
   "outputs": [
    {
     "data": {
      "text/html": [
       "<div>\n",
       "<style scoped>\n",
       "    .dataframe tbody tr th:only-of-type {\n",
       "        vertical-align: middle;\n",
       "    }\n",
       "\n",
       "    .dataframe tbody tr th {\n",
       "        vertical-align: top;\n",
       "    }\n",
       "\n",
       "    .dataframe thead th {\n",
       "        text-align: right;\n",
       "    }\n",
       "</style>\n",
       "<table border=\"1\" class=\"dataframe\">\n",
       "  <thead>\n",
       "    <tr style=\"text-align: right;\">\n",
       "      <th></th>\n",
       "      <th>SUBJECT_ID</th>\n",
       "      <th>HADM_ID</th>\n",
       "      <th>DISEASE_DURATION</th>\n",
       "      <th>AGE</th>\n",
       "      <th>GENDER_M</th>\n",
       "      <th>MARITAL_STATUS_DIVORCED</th>\n",
       "      <th>MARITAL_STATUS_LIFE PARTNER</th>\n",
       "      <th>MARITAL_STATUS_MARRIED</th>\n",
       "      <th>MARITAL_STATUS_SEPARATED</th>\n",
       "      <th>MARITAL_STATUS_SINGLE</th>\n",
       "      <th>MARITAL_STATUS_UNKNOWN (DEFAULT)</th>\n",
       "      <th>MARITAL_STATUS_WIDOWED</th>\n",
       "      <th>REL_DAY</th>\n",
       "      <th>BMI</th>\n",
       "      <th>Heart_Rate</th>\n",
       "      <th>Flag_Heart_Rate_Alarm_Low</th>\n",
       "      <th>Flag_Heart_rate_Alarm_High</th>\n",
       "      <th>Oxygen_Saturation</th>\n",
       "      <th>Flag_Oxygen_Saturation_Alarm_High</th>\n",
       "      <th>Flag_Oxygen_Saturation_Alarm_Low</th>\n",
       "      <th>Arterial_Blood_Pressure_Systolic</th>\n",
       "      <th>Arterial_Blood_Pressure_Diastolic</th>\n",
       "      <th>Arterial_Blood_Pressure_Mean</th>\n",
       "      <th>GROUP_ID</th>\n",
       "      <th>DOD_LABEL</th>\n",
       "      <th>ROW_ID_x</th>\n",
       "      <th>ADMITTIME</th>\n",
       "      <th>DISCHTIME</th>\n",
       "      <th>DEATHTIME</th>\n",
       "      <th>ADMISSION_TYPE</th>\n",
       "      <th>ADMISSION_LOCATION</th>\n",
       "      <th>DISCHARGE_LOCATION</th>\n",
       "      <th>INSURANCE</th>\n",
       "      <th>LANGUAGE</th>\n",
       "      <th>RELIGION</th>\n",
       "      <th>MARITAL_STATUS</th>\n",
       "      <th>ETHNICITY</th>\n",
       "      <th>EDREGTIME</th>\n",
       "      <th>EDOUTTIME</th>\n",
       "      <th>DIAGNOSIS</th>\n",
       "      <th>HOSPITAL_EXPIRE_FLAG</th>\n",
       "      <th>HAS_CHARTEVENTS_DATA</th>\n",
       "      <th>ROW_ID_y</th>\n",
       "      <th>GENDER</th>\n",
       "      <th>DOB</th>\n",
       "      <th>DOD</th>\n",
       "      <th>DOD_HOSP</th>\n",
       "      <th>DOD_SSN</th>\n",
       "      <th>EXPIRE_FLAG</th>\n",
       "    </tr>\n",
       "  </thead>\n",
       "  <tbody>\n",
       "    <tr>\n",
       "      <th>0</th>\n",
       "      <td>124.0</td>\n",
       "      <td>112906.0</td>\n",
       "      <td>7.497222</td>\n",
       "      <td>71.123288</td>\n",
       "      <td>1.0</td>\n",
       "      <td>0.0</td>\n",
       "      <td>0.0</td>\n",
       "      <td>1.0</td>\n",
       "      <td>0.0</td>\n",
       "      <td>0.0</td>\n",
       "      <td>0.0</td>\n",
       "      <td>0.0</td>\n",
       "      <td>0.0</td>\n",
       "      <td>24.740484</td>\n",
       "      <td>75.407407</td>\n",
       "      <td>0.0</td>\n",
       "      <td>0.0</td>\n",
       "      <td>96.250000</td>\n",
       "      <td>1.0</td>\n",
       "      <td>1.0</td>\n",
       "      <td>103.678571</td>\n",
       "      <td>56.071429</td>\n",
       "      <td>74.769231</td>\n",
       "      <td>124112906.0</td>\n",
       "      <td>0.0</td>\n",
       "      <td>167</td>\n",
       "      <td>2161-12-17 03:39:00</td>\n",
       "      <td>2161-12-24 15:35:00</td>\n",
       "      <td>NaN</td>\n",
       "      <td>EMERGENCY</td>\n",
       "      <td>EMERGENCY ROOM ADMIT</td>\n",
       "      <td>HOME</td>\n",
       "      <td>Medicare</td>\n",
       "      <td>NaN</td>\n",
       "      <td>CATHOLIC</td>\n",
       "      <td>MARRIED</td>\n",
       "      <td>WHITE</td>\n",
       "      <td>2161-12-16 18:57:00</td>\n",
       "      <td>2161-12-17 12:35:00</td>\n",
       "      <td>CHEST PAIN,R/O MI</td>\n",
       "      <td>0</td>\n",
       "      <td>1</td>\n",
       "      <td>114</td>\n",
       "      <td>M</td>\n",
       "      <td>2090-11-19 00:00:00</td>\n",
       "      <td>2166-02-01 00:00:00</td>\n",
       "      <td>2166-02-01 00:00:00</td>\n",
       "      <td>2166-02-01 00:00:00</td>\n",
       "      <td>1</td>\n",
       "    </tr>\n",
       "    <tr>\n",
       "      <th>1</th>\n",
       "      <td>124.0</td>\n",
       "      <td>112906.0</td>\n",
       "      <td>7.497222</td>\n",
       "      <td>71.123288</td>\n",
       "      <td>1.0</td>\n",
       "      <td>0.0</td>\n",
       "      <td>0.0</td>\n",
       "      <td>1.0</td>\n",
       "      <td>0.0</td>\n",
       "      <td>0.0</td>\n",
       "      <td>0.0</td>\n",
       "      <td>0.0</td>\n",
       "      <td>1.0</td>\n",
       "      <td>24.740484</td>\n",
       "      <td>79.040816</td>\n",
       "      <td>0.0</td>\n",
       "      <td>0.0</td>\n",
       "      <td>97.297872</td>\n",
       "      <td>1.0</td>\n",
       "      <td>1.0</td>\n",
       "      <td>105.979592</td>\n",
       "      <td>54.918367</td>\n",
       "      <td>75.812500</td>\n",
       "      <td>124112906.0</td>\n",
       "      <td>0.0</td>\n",
       "      <td>167</td>\n",
       "      <td>2161-12-17 03:39:00</td>\n",
       "      <td>2161-12-24 15:35:00</td>\n",
       "      <td>NaN</td>\n",
       "      <td>EMERGENCY</td>\n",
       "      <td>EMERGENCY ROOM ADMIT</td>\n",
       "      <td>HOME</td>\n",
       "      <td>Medicare</td>\n",
       "      <td>NaN</td>\n",
       "      <td>CATHOLIC</td>\n",
       "      <td>MARRIED</td>\n",
       "      <td>WHITE</td>\n",
       "      <td>2161-12-16 18:57:00</td>\n",
       "      <td>2161-12-17 12:35:00</td>\n",
       "      <td>CHEST PAIN,R/O MI</td>\n",
       "      <td>0</td>\n",
       "      <td>1</td>\n",
       "      <td>114</td>\n",
       "      <td>M</td>\n",
       "      <td>2090-11-19 00:00:00</td>\n",
       "      <td>2166-02-01 00:00:00</td>\n",
       "      <td>2166-02-01 00:00:00</td>\n",
       "      <td>2166-02-01 00:00:00</td>\n",
       "      <td>1</td>\n",
       "    </tr>\n",
       "    <tr>\n",
       "      <th>2</th>\n",
       "      <td>124.0</td>\n",
       "      <td>112906.0</td>\n",
       "      <td>7.497222</td>\n",
       "      <td>71.123288</td>\n",
       "      <td>1.0</td>\n",
       "      <td>0.0</td>\n",
       "      <td>0.0</td>\n",
       "      <td>1.0</td>\n",
       "      <td>0.0</td>\n",
       "      <td>0.0</td>\n",
       "      <td>0.0</td>\n",
       "      <td>0.0</td>\n",
       "      <td>2.0</td>\n",
       "      <td>24.740484</td>\n",
       "      <td>74.714286</td>\n",
       "      <td>0.0</td>\n",
       "      <td>0.0</td>\n",
       "      <td>98.000000</td>\n",
       "      <td>1.0</td>\n",
       "      <td>1.0</td>\n",
       "      <td>110.428571</td>\n",
       "      <td>56.142857</td>\n",
       "      <td>87.857143</td>\n",
       "      <td>124112906.0</td>\n",
       "      <td>0.0</td>\n",
       "      <td>167</td>\n",
       "      <td>2161-12-17 03:39:00</td>\n",
       "      <td>2161-12-24 15:35:00</td>\n",
       "      <td>NaN</td>\n",
       "      <td>EMERGENCY</td>\n",
       "      <td>EMERGENCY ROOM ADMIT</td>\n",
       "      <td>HOME</td>\n",
       "      <td>Medicare</td>\n",
       "      <td>NaN</td>\n",
       "      <td>CATHOLIC</td>\n",
       "      <td>MARRIED</td>\n",
       "      <td>WHITE</td>\n",
       "      <td>2161-12-16 18:57:00</td>\n",
       "      <td>2161-12-17 12:35:00</td>\n",
       "      <td>CHEST PAIN,R/O MI</td>\n",
       "      <td>0</td>\n",
       "      <td>1</td>\n",
       "      <td>114</td>\n",
       "      <td>M</td>\n",
       "      <td>2090-11-19 00:00:00</td>\n",
       "      <td>2166-02-01 00:00:00</td>\n",
       "      <td>2166-02-01 00:00:00</td>\n",
       "      <td>2166-02-01 00:00:00</td>\n",
       "      <td>1</td>\n",
       "    </tr>\n",
       "    <tr>\n",
       "      <th>3</th>\n",
       "      <td>124.0</td>\n",
       "      <td>112906.0</td>\n",
       "      <td>7.497222</td>\n",
       "      <td>71.123288</td>\n",
       "      <td>1.0</td>\n",
       "      <td>0.0</td>\n",
       "      <td>0.0</td>\n",
       "      <td>1.0</td>\n",
       "      <td>0.0</td>\n",
       "      <td>0.0</td>\n",
       "      <td>0.0</td>\n",
       "      <td>0.0</td>\n",
       "      <td>3.0</td>\n",
       "      <td>24.740484</td>\n",
       "      <td>76.857143</td>\n",
       "      <td>0.0</td>\n",
       "      <td>0.0</td>\n",
       "      <td>97.619048</td>\n",
       "      <td>1.0</td>\n",
       "      <td>1.0</td>\n",
       "      <td>120.285714</td>\n",
       "      <td>59.809524</td>\n",
       "      <td>81.285714</td>\n",
       "      <td>124112906.0</td>\n",
       "      <td>0.0</td>\n",
       "      <td>167</td>\n",
       "      <td>2161-12-17 03:39:00</td>\n",
       "      <td>2161-12-24 15:35:00</td>\n",
       "      <td>NaN</td>\n",
       "      <td>EMERGENCY</td>\n",
       "      <td>EMERGENCY ROOM ADMIT</td>\n",
       "      <td>HOME</td>\n",
       "      <td>Medicare</td>\n",
       "      <td>NaN</td>\n",
       "      <td>CATHOLIC</td>\n",
       "      <td>MARRIED</td>\n",
       "      <td>WHITE</td>\n",
       "      <td>2161-12-16 18:57:00</td>\n",
       "      <td>2161-12-17 12:35:00</td>\n",
       "      <td>CHEST PAIN,R/O MI</td>\n",
       "      <td>0</td>\n",
       "      <td>1</td>\n",
       "      <td>114</td>\n",
       "      <td>M</td>\n",
       "      <td>2090-11-19 00:00:00</td>\n",
       "      <td>2166-02-01 00:00:00</td>\n",
       "      <td>2166-02-01 00:00:00</td>\n",
       "      <td>2166-02-01 00:00:00</td>\n",
       "      <td>1</td>\n",
       "    </tr>\n",
       "    <tr>\n",
       "      <th>4</th>\n",
       "      <td>124.0</td>\n",
       "      <td>112906.0</td>\n",
       "      <td>7.497222</td>\n",
       "      <td>71.123288</td>\n",
       "      <td>1.0</td>\n",
       "      <td>0.0</td>\n",
       "      <td>0.0</td>\n",
       "      <td>1.0</td>\n",
       "      <td>0.0</td>\n",
       "      <td>0.0</td>\n",
       "      <td>0.0</td>\n",
       "      <td>0.0</td>\n",
       "      <td>4.0</td>\n",
       "      <td>24.740484</td>\n",
       "      <td>79.450000</td>\n",
       "      <td>0.0</td>\n",
       "      <td>0.0</td>\n",
       "      <td>97.500000</td>\n",
       "      <td>1.0</td>\n",
       "      <td>1.0</td>\n",
       "      <td>107.700000</td>\n",
       "      <td>61.250000</td>\n",
       "      <td>79.800000</td>\n",
       "      <td>124112906.0</td>\n",
       "      <td>0.0</td>\n",
       "      <td>167</td>\n",
       "      <td>2161-12-17 03:39:00</td>\n",
       "      <td>2161-12-24 15:35:00</td>\n",
       "      <td>NaN</td>\n",
       "      <td>EMERGENCY</td>\n",
       "      <td>EMERGENCY ROOM ADMIT</td>\n",
       "      <td>HOME</td>\n",
       "      <td>Medicare</td>\n",
       "      <td>NaN</td>\n",
       "      <td>CATHOLIC</td>\n",
       "      <td>MARRIED</td>\n",
       "      <td>WHITE</td>\n",
       "      <td>2161-12-16 18:57:00</td>\n",
       "      <td>2161-12-17 12:35:00</td>\n",
       "      <td>CHEST PAIN,R/O MI</td>\n",
       "      <td>0</td>\n",
       "      <td>1</td>\n",
       "      <td>114</td>\n",
       "      <td>M</td>\n",
       "      <td>2090-11-19 00:00:00</td>\n",
       "      <td>2166-02-01 00:00:00</td>\n",
       "      <td>2166-02-01 00:00:00</td>\n",
       "      <td>2166-02-01 00:00:00</td>\n",
       "      <td>1</td>\n",
       "    </tr>\n",
       "  </tbody>\n",
       "</table>\n",
       "</div>"
      ],
      "text/plain": [
       "   SUBJECT_ID   HADM_ID  DISEASE_DURATION        AGE  GENDER_M  \\\n",
       "0       124.0  112906.0          7.497222  71.123288       1.0   \n",
       "1       124.0  112906.0          7.497222  71.123288       1.0   \n",
       "2       124.0  112906.0          7.497222  71.123288       1.0   \n",
       "3       124.0  112906.0          7.497222  71.123288       1.0   \n",
       "4       124.0  112906.0          7.497222  71.123288       1.0   \n",
       "\n",
       "   MARITAL_STATUS_DIVORCED  MARITAL_STATUS_LIFE PARTNER  \\\n",
       "0                      0.0                          0.0   \n",
       "1                      0.0                          0.0   \n",
       "2                      0.0                          0.0   \n",
       "3                      0.0                          0.0   \n",
       "4                      0.0                          0.0   \n",
       "\n",
       "   MARITAL_STATUS_MARRIED  MARITAL_STATUS_SEPARATED  MARITAL_STATUS_SINGLE  \\\n",
       "0                     1.0                       0.0                    0.0   \n",
       "1                     1.0                       0.0                    0.0   \n",
       "2                     1.0                       0.0                    0.0   \n",
       "3                     1.0                       0.0                    0.0   \n",
       "4                     1.0                       0.0                    0.0   \n",
       "\n",
       "   MARITAL_STATUS_UNKNOWN (DEFAULT)  MARITAL_STATUS_WIDOWED  REL_DAY  \\\n",
       "0                               0.0                     0.0      0.0   \n",
       "1                               0.0                     0.0      1.0   \n",
       "2                               0.0                     0.0      2.0   \n",
       "3                               0.0                     0.0      3.0   \n",
       "4                               0.0                     0.0      4.0   \n",
       "\n",
       "         BMI  Heart_Rate  Flag_Heart_Rate_Alarm_Low  \\\n",
       "0  24.740484   75.407407                        0.0   \n",
       "1  24.740484   79.040816                        0.0   \n",
       "2  24.740484   74.714286                        0.0   \n",
       "3  24.740484   76.857143                        0.0   \n",
       "4  24.740484   79.450000                        0.0   \n",
       "\n",
       "   Flag_Heart_rate_Alarm_High  Oxygen_Saturation  \\\n",
       "0                         0.0          96.250000   \n",
       "1                         0.0          97.297872   \n",
       "2                         0.0          98.000000   \n",
       "3                         0.0          97.619048   \n",
       "4                         0.0          97.500000   \n",
       "\n",
       "   Flag_Oxygen_Saturation_Alarm_High  Flag_Oxygen_Saturation_Alarm_Low  \\\n",
       "0                                1.0                               1.0   \n",
       "1                                1.0                               1.0   \n",
       "2                                1.0                               1.0   \n",
       "3                                1.0                               1.0   \n",
       "4                                1.0                               1.0   \n",
       "\n",
       "   Arterial_Blood_Pressure_Systolic  Arterial_Blood_Pressure_Diastolic  \\\n",
       "0                        103.678571                          56.071429   \n",
       "1                        105.979592                          54.918367   \n",
       "2                        110.428571                          56.142857   \n",
       "3                        120.285714                          59.809524   \n",
       "4                        107.700000                          61.250000   \n",
       "\n",
       "   Arterial_Blood_Pressure_Mean     GROUP_ID  DOD_LABEL  ROW_ID_x  \\\n",
       "0                     74.769231  124112906.0        0.0       167   \n",
       "1                     75.812500  124112906.0        0.0       167   \n",
       "2                     87.857143  124112906.0        0.0       167   \n",
       "3                     81.285714  124112906.0        0.0       167   \n",
       "4                     79.800000  124112906.0        0.0       167   \n",
       "\n",
       "             ADMITTIME            DISCHTIME DEATHTIME ADMISSION_TYPE  \\\n",
       "0  2161-12-17 03:39:00  2161-12-24 15:35:00       NaN      EMERGENCY   \n",
       "1  2161-12-17 03:39:00  2161-12-24 15:35:00       NaN      EMERGENCY   \n",
       "2  2161-12-17 03:39:00  2161-12-24 15:35:00       NaN      EMERGENCY   \n",
       "3  2161-12-17 03:39:00  2161-12-24 15:35:00       NaN      EMERGENCY   \n",
       "4  2161-12-17 03:39:00  2161-12-24 15:35:00       NaN      EMERGENCY   \n",
       "\n",
       "     ADMISSION_LOCATION DISCHARGE_LOCATION INSURANCE LANGUAGE  RELIGION  \\\n",
       "0  EMERGENCY ROOM ADMIT               HOME  Medicare      NaN  CATHOLIC   \n",
       "1  EMERGENCY ROOM ADMIT               HOME  Medicare      NaN  CATHOLIC   \n",
       "2  EMERGENCY ROOM ADMIT               HOME  Medicare      NaN  CATHOLIC   \n",
       "3  EMERGENCY ROOM ADMIT               HOME  Medicare      NaN  CATHOLIC   \n",
       "4  EMERGENCY ROOM ADMIT               HOME  Medicare      NaN  CATHOLIC   \n",
       "\n",
       "  MARITAL_STATUS ETHNICITY            EDREGTIME            EDOUTTIME  \\\n",
       "0        MARRIED     WHITE  2161-12-16 18:57:00  2161-12-17 12:35:00   \n",
       "1        MARRIED     WHITE  2161-12-16 18:57:00  2161-12-17 12:35:00   \n",
       "2        MARRIED     WHITE  2161-12-16 18:57:00  2161-12-17 12:35:00   \n",
       "3        MARRIED     WHITE  2161-12-16 18:57:00  2161-12-17 12:35:00   \n",
       "4        MARRIED     WHITE  2161-12-16 18:57:00  2161-12-17 12:35:00   \n",
       "\n",
       "           DIAGNOSIS  HOSPITAL_EXPIRE_FLAG  HAS_CHARTEVENTS_DATA  ROW_ID_y  \\\n",
       "0  CHEST PAIN,R/O MI                     0                     1       114   \n",
       "1  CHEST PAIN,R/O MI                     0                     1       114   \n",
       "2  CHEST PAIN,R/O MI                     0                     1       114   \n",
       "3  CHEST PAIN,R/O MI                     0                     1       114   \n",
       "4  CHEST PAIN,R/O MI                     0                     1       114   \n",
       "\n",
       "  GENDER                  DOB                  DOD             DOD_HOSP  \\\n",
       "0      M  2090-11-19 00:00:00  2166-02-01 00:00:00  2166-02-01 00:00:00   \n",
       "1      M  2090-11-19 00:00:00  2166-02-01 00:00:00  2166-02-01 00:00:00   \n",
       "2      M  2090-11-19 00:00:00  2166-02-01 00:00:00  2166-02-01 00:00:00   \n",
       "3      M  2090-11-19 00:00:00  2166-02-01 00:00:00  2166-02-01 00:00:00   \n",
       "4      M  2090-11-19 00:00:00  2166-02-01 00:00:00  2166-02-01 00:00:00   \n",
       "\n",
       "               DOD_SSN  EXPIRE_FLAG  \n",
       "0  2166-02-01 00:00:00            1  \n",
       "1  2166-02-01 00:00:00            1  \n",
       "2  2166-02-01 00:00:00            1  \n",
       "3  2166-02-01 00:00:00            1  \n",
       "4  2166-02-01 00:00:00            1  "
      ]
     },
     "execution_count": 301,
     "metadata": {},
     "output_type": "execute_result"
    }
   ],
   "source": [
    "new_df.head()"
   ]
  },
  {
   "cell_type": "code",
   "execution_count": 303,
   "id": "cc91bd69",
   "metadata": {},
   "outputs": [
    {
     "data": {
      "text/plain": [
       "<AxesSubplot: xlabel='GENDER', ylabel='Count'>"
      ]
     },
     "execution_count": 303,
     "metadata": {},
     "output_type": "execute_result"
    },
    {
     "data": {
      "image/png": "[encoded data removed]",
      "text/plain": [
       "<Figure size 640x480 with 1 Axes>"
      ]
     },
     "metadata": {},
     "output_type": "display_data"
    }
   ],
   "source": [
    "sns.histplot(data=new_df, x=new_df['GENDER'])"
   ]
  },
  {
   "cell_type": "code",
   "execution_count": 304,
   "id": "fbab9e00",
   "metadata": {},
   "outputs": [
    {
     "data": {
      "text/plain": [
       "<AxesSubplot: xlabel='DOD_LABEL', ylabel='Count'>"
      ]
     },
     "execution_count": 304,
     "metadata": {},
     "output_type": "execute_result"
    },
    {
     "data": {
      "image/png": "[encoded data removed]",
      "text/plain": [
       "<Figure size 640x480 with 1 Axes>"
      ]
     },
     "metadata": {},
     "output_type": "display_data"
    }
   ],
   "source": [
    "sns.histplot(data=new_df, x=new_df['DOD_LABEL'])"
   ]
  },
  {
   "cell_type": "code",
   "execution_count": 307,
   "id": "a14c55dd",
   "metadata": {},
   "outputs": [],
   "source": [
    "corr = df.corr()"
   ]
  },
  {
   "cell_type": "code",
   "execution_count": 308,
   "id": "9bb79e0f",
   "metadata": {},
   "outputs": [
    {
     "data": {
      "text/html": [
       "<div>\n",
       "<style scoped>\n",
       "    .dataframe tbody tr th:only-of-type {\n",
       "        vertical-align: middle;\n",
       "    }\n",
       "\n",
       "    .dataframe tbody tr th {\n",
       "        vertical-align: top;\n",
       "    }\n",
       "\n",
       "    .dataframe thead th {\n",
       "        text-align: right;\n",
       "    }\n",
       "</style>\n",
       "<table border=\"1\" class=\"dataframe\">\n",
       "  <thead>\n",
       "    <tr style=\"text-align: right;\">\n",
       "      <th></th>\n",
       "      <th>SUBJECT_ID</th>\n",
       "      <th>HADM_ID</th>\n",
       "      <th>DISEASE_DURATION</th>\n",
       "      <th>AGE</th>\n",
       "      <th>GENDER_M</th>\n",
       "      <th>MARITAL_STATUS_DIVORCED</th>\n",
       "      <th>MARITAL_STATUS_LIFE PARTNER</th>\n",
       "      <th>MARITAL_STATUS_MARRIED</th>\n",
       "      <th>MARITAL_STATUS_SEPARATED</th>\n",
       "      <th>MARITAL_STATUS_SINGLE</th>\n",
       "      <th>MARITAL_STATUS_UNKNOWN (DEFAULT)</th>\n",
       "      <th>MARITAL_STATUS_WIDOWED</th>\n",
       "      <th>REL_DAY</th>\n",
       "      <th>BMI</th>\n",
       "      <th>Heart_Rate</th>\n",
       "      <th>Flag_Heart_Rate_Alarm_Low</th>\n",
       "      <th>Flag_Heart_rate_Alarm_High</th>\n",
       "      <th>Oxygen_Saturation</th>\n",
       "      <th>Flag_Oxygen_Saturation_Alarm_High</th>\n",
       "      <th>Flag_Oxygen_Saturation_Alarm_Low</th>\n",
       "      <th>Arterial_Blood_Pressure_Systolic</th>\n",
       "      <th>Arterial_Blood_Pressure_Diastolic</th>\n",
       "      <th>Arterial_Blood_Pressure_Mean</th>\n",
       "      <th>GROUP_ID</th>\n",
       "      <th>DOD_LABEL</th>\n",
       "    </tr>\n",
       "  </thead>\n",
       "  <tbody>\n",
       "    <tr>\n",
       "      <th>0</th>\n",
       "      <td>124.0</td>\n",
       "      <td>112906.0</td>\n",
       "      <td>7.497222</td>\n",
       "      <td>71.123288</td>\n",
       "      <td>1.0</td>\n",
       "      <td>0.0</td>\n",
       "      <td>0.0</td>\n",
       "      <td>1.0</td>\n",
       "      <td>0.0</td>\n",
       "      <td>0.0</td>\n",
       "      <td>0.0</td>\n",
       "      <td>0.0</td>\n",
       "      <td>0.0</td>\n",
       "      <td>24.740484</td>\n",
       "      <td>75.407407</td>\n",
       "      <td>0.0</td>\n",
       "      <td>0.0</td>\n",
       "      <td>96.250000</td>\n",
       "      <td>1.0</td>\n",
       "      <td>1.0</td>\n",
       "      <td>103.678571</td>\n",
       "      <td>56.071429</td>\n",
       "      <td>74.769231</td>\n",
       "      <td>124112906.0</td>\n",
       "      <td>0.0</td>\n",
       "    </tr>\n",
       "    <tr>\n",
       "      <th>1</th>\n",
       "      <td>124.0</td>\n",
       "      <td>112906.0</td>\n",
       "      <td>7.497222</td>\n",
       "      <td>71.123288</td>\n",
       "      <td>1.0</td>\n",
       "      <td>0.0</td>\n",
       "      <td>0.0</td>\n",
       "      <td>1.0</td>\n",
       "      <td>0.0</td>\n",
       "      <td>0.0</td>\n",
       "      <td>0.0</td>\n",
       "      <td>0.0</td>\n",
       "      <td>1.0</td>\n",
       "      <td>24.740484</td>\n",
       "      <td>79.040816</td>\n",
       "      <td>0.0</td>\n",
       "      <td>0.0</td>\n",
       "      <td>97.297872</td>\n",
       "      <td>1.0</td>\n",
       "      <td>1.0</td>\n",
       "      <td>105.979592</td>\n",
       "      <td>54.918367</td>\n",
       "      <td>75.812500</td>\n",
       "      <td>124112906.0</td>\n",
       "      <td>0.0</td>\n",
       "    </tr>\n",
       "    <tr>\n",
       "      <th>2</th>\n",
       "      <td>124.0</td>\n",
       "      <td>112906.0</td>\n",
       "      <td>7.497222</td>\n",
       "      <td>71.123288</td>\n",
       "      <td>1.0</td>\n",
       "      <td>0.0</td>\n",
       "      <td>0.0</td>\n",
       "      <td>1.0</td>\n",
       "      <td>0.0</td>\n",
       "      <td>0.0</td>\n",
       "      <td>0.0</td>\n",
       "      <td>0.0</td>\n",
       "      <td>2.0</td>\n",
       "      <td>24.740484</td>\n",
       "      <td>74.714286</td>\n",
       "      <td>0.0</td>\n",
       "      <td>0.0</td>\n",
       "      <td>98.000000</td>\n",
       "      <td>1.0</td>\n",
       "      <td>1.0</td>\n",
       "      <td>110.428571</td>\n",
       "      <td>56.142857</td>\n",
       "      <td>87.857143</td>\n",
       "      <td>124112906.0</td>\n",
       "      <td>0.0</td>\n",
       "    </tr>\n",
       "    <tr>\n",
       "      <th>3</th>\n",
       "      <td>124.0</td>\n",
       "      <td>112906.0</td>\n",
       "      <td>7.497222</td>\n",
       "      <td>71.123288</td>\n",
       "      <td>1.0</td>\n",
       "      <td>0.0</td>\n",
       "      <td>0.0</td>\n",
       "      <td>1.0</td>\n",
       "      <td>0.0</td>\n",
       "      <td>0.0</td>\n",
       "      <td>0.0</td>\n",
       "      <td>0.0</td>\n",
       "      <td>3.0</td>\n",
       "      <td>24.740484</td>\n",
       "      <td>76.857143</td>\n",
       "      <td>0.0</td>\n",
       "      <td>0.0</td>\n",
       "      <td>97.619048</td>\n",
       "      <td>1.0</td>\n",
       "      <td>1.0</td>\n",
       "      <td>120.285714</td>\n",
       "      <td>59.809524</td>\n",
       "      <td>81.285714</td>\n",
       "      <td>124112906.0</td>\n",
       "      <td>0.0</td>\n",
       "    </tr>\n",
       "    <tr>\n",
       "      <th>4</th>\n",
       "      <td>124.0</td>\n",
       "      <td>112906.0</td>\n",
       "      <td>7.497222</td>\n",
       "      <td>71.123288</td>\n",
       "      <td>1.0</td>\n",
       "      <td>0.0</td>\n",
       "      <td>0.0</td>\n",
       "      <td>1.0</td>\n",
       "      <td>0.0</td>\n",
       "      <td>0.0</td>\n",
       "      <td>0.0</td>\n",
       "      <td>0.0</td>\n",
       "      <td>4.0</td>\n",
       "      <td>24.740484</td>\n",
       "      <td>79.450000</td>\n",
       "      <td>0.0</td>\n",
       "      <td>0.0</td>\n",
       "      <td>97.500000</td>\n",
       "      <td>1.0</td>\n",
       "      <td>1.0</td>\n",
       "      <td>107.700000</td>\n",
       "      <td>61.250000</td>\n",
       "      <td>79.800000</td>\n",
       "      <td>124112906.0</td>\n",
       "      <td>0.0</td>\n",
       "    </tr>\n",
       "  </tbody>\n",
       "</table>\n",
       "</div>"
      ],
      "text/plain": [
       "   SUBJECT_ID   HADM_ID  DISEASE_DURATION        AGE  GENDER_M  \\\n",
       "0       124.0  112906.0          7.497222  71.123288       1.0   \n",
       "1       124.0  112906.0          7.497222  71.123288       1.0   \n",
       "2       124.0  112906.0          7.497222  71.123288       1.0   \n",
       "3       124.0  112906.0          7.497222  71.123288       1.0   \n",
       "4       124.0  112906.0          7.497222  71.123288       1.0   \n",
       "\n",
       "   MARITAL_STATUS_DIVORCED  MARITAL_STATUS_LIFE PARTNER  \\\n",
       "0                      0.0                          0.0   \n",
       "1                      0.0                          0.0   \n",
       "2                      0.0                          0.0   \n",
       "3                      0.0                          0.0   \n",
       "4                      0.0                          0.0   \n",
       "\n",
       "   MARITAL_STATUS_MARRIED  MARITAL_STATUS_SEPARATED  MARITAL_STATUS_SINGLE  \\\n",
       "0                     1.0                       0.0                    0.0   \n",
       "1                     1.0                       0.0                    0.0   \n",
       "2                     1.0                       0.0                    0.0   \n",
       "3                     1.0                       0.0                    0.0   \n",
       "4                     1.0                       0.0                    0.0   \n",
       "\n",
       "   MARITAL_STATUS_UNKNOWN (DEFAULT)  MARITAL_STATUS_WIDOWED  REL_DAY  \\\n",
       "0                               0.0                     0.0      0.0   \n",
       "1                               0.0                     0.0      1.0   \n",
       "2                               0.0                     0.0      2.0   \n",
       "3                               0.0                     0.0      3.0   \n",
       "4                               0.0                     0.0      4.0   \n",
       "\n",
       "         BMI  Heart_Rate  Flag_Heart_Rate_Alarm_Low  \\\n",
       "0  24.740484   75.407407                        0.0   \n",
       "1  24.740484   79.040816                        0.0   \n",
       "2  24.740484   74.714286                        0.0   \n",
       "3  24.740484   76.857143                        0.0   \n",
       "4  24.740484   79.450000                        0.0   \n",
       "\n",
       "   Flag_Heart_rate_Alarm_High  Oxygen_Saturation  \\\n",
       "0                         0.0          96.250000   \n",
       "1                         0.0          97.297872   \n",
       "2                         0.0          98.000000   \n",
       "3                         0.0          97.619048   \n",
       "4                         0.0          97.500000   \n",
       "\n",
       "   Flag_Oxygen_Saturation_Alarm_High  Flag_Oxygen_Saturation_Alarm_Low  \\\n",
       "0                                1.0                               1.0   \n",
       "1                                1.0                               1.0   \n",
       "2                                1.0                               1.0   \n",
       "3                                1.0                               1.0   \n",
       "4                                1.0                               1.0   \n",
       "\n",
       "   Arterial_Blood_Pressure_Systolic  Arterial_Blood_Pressure_Diastolic  \\\n",
       "0                        103.678571                          56.071429   \n",
       "1                        105.979592                          54.918367   \n",
       "2                        110.428571                          56.142857   \n",
       "3                        120.285714                          59.809524   \n",
       "4                        107.700000                          61.250000   \n",
       "\n",
       "   Arterial_Blood_Pressure_Mean     GROUP_ID  DOD_LABEL  \n",
       "0                     74.769231  124112906.0        0.0  \n",
       "1                     75.812500  124112906.0        0.0  \n",
       "2                     87.857143  124112906.0        0.0  \n",
       "3                     81.285714  124112906.0        0.0  \n",
       "4                     79.800000  124112906.0        0.0  "
      ]
     },
     "execution_count": 308,
     "metadata": {},
     "output_type": "execute_result"
    }
   ],
   "source": [
    "df.head()"
   ]
  },
  {
   "cell_type": "code",
   "execution_count": 309,
   "id": "82b41996",
   "metadata": {},
   "outputs": [
    {
     "data": {
      "image/png": "[encoded data removed]",
      "text/plain": [
       "<Figure size 1000x1000 with 2 Axes>"
      ]
     },
     "metadata": {},
     "output_type": "display_data"
    }
   ],
   "source": [
    "mask = np.zeros_like(corr)\n",
    "mask[np.triu_indices_from(mask)] = True\n",
    "with sns.axes_style(\"white\"):\n",
    "    f, ax = plt.subplots(figsize=(10, 10))\n",
    "    ax = sns.heatmap(corr, mask=mask, vmax=1, square=True)"
   ]
  },
  {
   "cell_type": "code",
   "execution_count": 310,
   "id": "8a8fbac5",
   "metadata": {},
   "outputs": [
    {
     "data": {
      "application/vnd.jupyter.widget-view+json": {
       "model_id": "a0501be5f68e411dac699f8f511fa616",
       "version_major": 2,
       "version_minor": 0
      },
      "text/plain": [
       "Summarize dataset:   0%|          | 0/5 [00:00<?, ?it/s]"
      ]
     },
     "metadata": {},
     "output_type": "display_data"
    },
    {
     "data": {
      "application/vnd.jupyter.widget-view+json": {
       "model_id": "6b9954472a1843cc9b03d69a9e15c8c3",
       "version_major": 2,
       "version_minor": 0
      },
      "text/plain": [
       "Generate report structure:   0%|          | 0/1 [00:00<?, ?it/s]"
      ]
     },
     "metadata": {},
     "output_type": "display_data"
    },
    {
     "data": {
      "application/vnd.jupyter.widget-view+json": {
       "model_id": "a88ebd1fccbc499fac9b7eb2f379fd43",
       "version_major": 2,
       "version_minor": 0
      },
      "text/plain": [
       "Render HTML:   0%|          | 0/1 [00:00<?, ?it/s]"
      ]
     },
     "metadata": {},
     "output_type": "display_data"
    },
    {
     "data": {
      "application/vnd.jupyter.widget-view+json": {
       "model_id": "58033be298b64664b8b5debbabc16ccc",
       "version_major": 2,
       "version_minor": 0
      },
      "text/plain": [
       "Export report to file:   0%|          | 0/1 [00:00<?, ?it/s]"
      ]
     },
     "metadata": {},
     "output_type": "display_data"
    }
   ],
   "source": [
    "from pandas_profiling import ProfileReport\n",
    "\n",
    "profile = ProfileReport(df)\n",
    "profile.to_file(output_file=\"C:/Users/karti/PycharmProjects/Master_Thesis/Final_EDA/output.html\")"
   ]
  },
  {
   "cell_type": "code",
   "execution_count": 311,
   "id": "520d8824",
   "metadata": {},
   "outputs": [
    {
     "data": {
      "text/html": [
       "<div>\n",
       "<style scoped>\n",
       "    .dataframe tbody tr th:only-of-type {\n",
       "        vertical-align: middle;\n",
       "    }\n",
       "\n",
       "    .dataframe tbody tr th {\n",
       "        vertical-align: top;\n",
       "    }\n",
       "\n",
       "    .dataframe thead th {\n",
       "        text-align: right;\n",
       "    }\n",
       "</style>\n",
       "<table border=\"1\" class=\"dataframe\">\n",
       "  <thead>\n",
       "    <tr style=\"text-align: right;\">\n",
       "      <th></th>\n",
       "      <th>SUBJECT_ID</th>\n",
       "      <th>HADM_ID</th>\n",
       "      <th>DISEASE_DURATION</th>\n",
       "      <th>AGE</th>\n",
       "      <th>GENDER_M</th>\n",
       "      <th>MARITAL_STATUS_DIVORCED</th>\n",
       "      <th>MARITAL_STATUS_LIFE PARTNER</th>\n",
       "      <th>MARITAL_STATUS_MARRIED</th>\n",
       "      <th>MARITAL_STATUS_SEPARATED</th>\n",
       "      <th>MARITAL_STATUS_SINGLE</th>\n",
       "      <th>MARITAL_STATUS_UNKNOWN (DEFAULT)</th>\n",
       "      <th>MARITAL_STATUS_WIDOWED</th>\n",
       "      <th>REL_DAY</th>\n",
       "      <th>BMI</th>\n",
       "      <th>Heart_Rate</th>\n",
       "      <th>Flag_Heart_Rate_Alarm_Low</th>\n",
       "      <th>Flag_Heart_rate_Alarm_High</th>\n",
       "      <th>Oxygen_Saturation</th>\n",
       "      <th>Flag_Oxygen_Saturation_Alarm_High</th>\n",
       "      <th>Flag_Oxygen_Saturation_Alarm_Low</th>\n",
       "      <th>Arterial_Blood_Pressure_Systolic</th>\n",
       "      <th>Arterial_Blood_Pressure_Diastolic</th>\n",
       "      <th>Arterial_Blood_Pressure_Mean</th>\n",
       "      <th>GROUP_ID</th>\n",
       "      <th>DOD_LABEL</th>\n",
       "    </tr>\n",
       "  </thead>\n",
       "  <tbody>\n",
       "    <tr>\n",
       "      <th>0</th>\n",
       "      <td>124.0</td>\n",
       "      <td>112906.0</td>\n",
       "      <td>7.497222</td>\n",
       "      <td>71.123288</td>\n",
       "      <td>1.0</td>\n",
       "      <td>0.0</td>\n",
       "      <td>0.0</td>\n",
       "      <td>1.0</td>\n",
       "      <td>0.0</td>\n",
       "      <td>0.0</td>\n",
       "      <td>0.0</td>\n",
       "      <td>0.0</td>\n",
       "      <td>0.0</td>\n",
       "      <td>24.740484</td>\n",
       "      <td>75.407407</td>\n",
       "      <td>0.0</td>\n",
       "      <td>0.0</td>\n",
       "      <td>96.250000</td>\n",
       "      <td>1.0</td>\n",
       "      <td>1.0</td>\n",
       "      <td>103.678571</td>\n",
       "      <td>56.071429</td>\n",
       "      <td>74.769231</td>\n",
       "      <td>124112906.0</td>\n",
       "      <td>0.0</td>\n",
       "    </tr>\n",
       "    <tr>\n",
       "      <th>1</th>\n",
       "      <td>124.0</td>\n",
       "      <td>112906.0</td>\n",
       "      <td>7.497222</td>\n",
       "      <td>71.123288</td>\n",
       "      <td>1.0</td>\n",
       "      <td>0.0</td>\n",
       "      <td>0.0</td>\n",
       "      <td>1.0</td>\n",
       "      <td>0.0</td>\n",
       "      <td>0.0</td>\n",
       "      <td>0.0</td>\n",
       "      <td>0.0</td>\n",
       "      <td>1.0</td>\n",
       "      <td>24.740484</td>\n",
       "      <td>79.040816</td>\n",
       "      <td>0.0</td>\n",
       "      <td>0.0</td>\n",
       "      <td>97.297872</td>\n",
       "      <td>1.0</td>\n",
       "      <td>1.0</td>\n",
       "      <td>105.979592</td>\n",
       "      <td>54.918367</td>\n",
       "      <td>75.812500</td>\n",
       "      <td>124112906.0</td>\n",
       "      <td>0.0</td>\n",
       "    </tr>\n",
       "    <tr>\n",
       "      <th>2</th>\n",
       "      <td>124.0</td>\n",
       "      <td>112906.0</td>\n",
       "      <td>7.497222</td>\n",
       "      <td>71.123288</td>\n",
       "      <td>1.0</td>\n",
       "      <td>0.0</td>\n",
       "      <td>0.0</td>\n",
       "      <td>1.0</td>\n",
       "      <td>0.0</td>\n",
       "      <td>0.0</td>\n",
       "      <td>0.0</td>\n",
       "      <td>0.0</td>\n",
       "      <td>2.0</td>\n",
       "      <td>24.740484</td>\n",
       "      <td>74.714286</td>\n",
       "      <td>0.0</td>\n",
       "      <td>0.0</td>\n",
       "      <td>98.000000</td>\n",
       "      <td>1.0</td>\n",
       "      <td>1.0</td>\n",
       "      <td>110.428571</td>\n",
       "      <td>56.142857</td>\n",
       "      <td>87.857143</td>\n",
       "      <td>124112906.0</td>\n",
       "      <td>0.0</td>\n",
       "    </tr>\n",
       "    <tr>\n",
       "      <th>3</th>\n",
       "      <td>124.0</td>\n",
       "      <td>112906.0</td>\n",
       "      <td>7.497222</td>\n",
       "      <td>71.123288</td>\n",
       "      <td>1.0</td>\n",
       "      <td>0.0</td>\n",
       "      <td>0.0</td>\n",
       "      <td>1.0</td>\n",
       "      <td>0.0</td>\n",
       "      <td>0.0</td>\n",
       "      <td>0.0</td>\n",
       "      <td>0.0</td>\n",
       "      <td>3.0</td>\n",
       "      <td>24.740484</td>\n",
       "      <td>76.857143</td>\n",
       "      <td>0.0</td>\n",
       "      <td>0.0</td>\n",
       "      <td>97.619048</td>\n",
       "      <td>1.0</td>\n",
       "      <td>1.0</td>\n",
       "      <td>120.285714</td>\n",
       "      <td>59.809524</td>\n",
       "      <td>81.285714</td>\n",
       "      <td>124112906.0</td>\n",
       "      <td>0.0</td>\n",
       "    </tr>\n",
       "    <tr>\n",
       "      <th>4</th>\n",
       "      <td>124.0</td>\n",
       "      <td>112906.0</td>\n",
       "      <td>7.497222</td>\n",
       "      <td>71.123288</td>\n",
       "      <td>1.0</td>\n",
       "      <td>0.0</td>\n",
       "      <td>0.0</td>\n",
       "      <td>1.0</td>\n",
       "      <td>0.0</td>\n",
       "      <td>0.0</td>\n",
       "      <td>0.0</td>\n",
       "      <td>0.0</td>\n",
       "      <td>4.0</td>\n",
       "      <td>24.740484</td>\n",
       "      <td>79.450000</td>\n",
       "      <td>0.0</td>\n",
       "      <td>0.0</td>\n",
       "      <td>97.500000</td>\n",
       "      <td>1.0</td>\n",
       "      <td>1.0</td>\n",
       "      <td>107.700000</td>\n",
       "      <td>61.250000</td>\n",
       "      <td>79.800000</td>\n",
       "      <td>124112906.0</td>\n",
       "      <td>0.0</td>\n",
       "    </tr>\n",
       "  </tbody>\n",
       "</table>\n",
       "</div>"
      ],
      "text/plain": [
       "   SUBJECT_ID   HADM_ID  DISEASE_DURATION        AGE  GENDER_M  \\\n",
       "0       124.0  112906.0          7.497222  71.123288       1.0   \n",
       "1       124.0  112906.0          7.497222  71.123288       1.0   \n",
       "2       124.0  112906.0          7.497222  71.123288       1.0   \n",
       "3       124.0  112906.0          7.497222  71.123288       1.0   \n",
       "4       124.0  112906.0          7.497222  71.123288       1.0   \n",
       "\n",
       "   MARITAL_STATUS_DIVORCED  MARITAL_STATUS_LIFE PARTNER  \\\n",
       "0                      0.0                          0.0   \n",
       "1                      0.0                          0.0   \n",
       "2                      0.0                          0.0   \n",
       "3                      0.0                          0.0   \n",
       "4                      0.0                          0.0   \n",
       "\n",
       "   MARITAL_STATUS_MARRIED  MARITAL_STATUS_SEPARATED  MARITAL_STATUS_SINGLE  \\\n",
       "0                     1.0                       0.0                    0.0   \n",
       "1                     1.0                       0.0                    0.0   \n",
       "2                     1.0                       0.0                    0.0   \n",
       "3                     1.0                       0.0                    0.0   \n",
       "4                     1.0                       0.0                    0.0   \n",
       "\n",
       "   MARITAL_STATUS_UNKNOWN (DEFAULT)  MARITAL_STATUS_WIDOWED  REL_DAY  \\\n",
       "0                               0.0                     0.0      0.0   \n",
       "1                               0.0                     0.0      1.0   \n",
       "2                               0.0                     0.0      2.0   \n",
       "3                               0.0                     0.0      3.0   \n",
       "4                               0.0                     0.0      4.0   \n",
       "\n",
       "         BMI  Heart_Rate  Flag_Heart_Rate_Alarm_Low  \\\n",
       "0  24.740484   75.407407                        0.0   \n",
       "1  24.740484   79.040816                        0.0   \n",
       "2  24.740484   74.714286                        0.0   \n",
       "3  24.740484   76.857143                        0.0   \n",
       "4  24.740484   79.450000                        0.0   \n",
       "\n",
       "   Flag_Heart_rate_Alarm_High  Oxygen_Saturation  \\\n",
       "0                         0.0          96.250000   \n",
       "1                         0.0          97.297872   \n",
       "2                         0.0          98.000000   \n",
       "3                         0.0          97.619048   \n",
       "4                         0.0          97.500000   \n",
       "\n",
       "   Flag_Oxygen_Saturation_Alarm_High  Flag_Oxygen_Saturation_Alarm_Low  \\\n",
       "0                                1.0                               1.0   \n",
       "1                                1.0                               1.0   \n",
       "2                                1.0                               1.0   \n",
       "3                                1.0                               1.0   \n",
       "4                                1.0                               1.0   \n",
       "\n",
       "   Arterial_Blood_Pressure_Systolic  Arterial_Blood_Pressure_Diastolic  \\\n",
       "0                        103.678571                          56.071429   \n",
       "1                        105.979592                          54.918367   \n",
       "2                        110.428571                          56.142857   \n",
       "3                        120.285714                          59.809524   \n",
       "4                        107.700000                          61.250000   \n",
       "\n",
       "   Arterial_Blood_Pressure_Mean     GROUP_ID  DOD_LABEL  \n",
       "0                     74.769231  124112906.0        0.0  \n",
       "1                     75.812500  124112906.0        0.0  \n",
       "2                     87.857143  124112906.0        0.0  \n",
       "3                     81.285714  124112906.0        0.0  \n",
       "4                     79.800000  124112906.0        0.0  "
      ]
     },
     "execution_count": 311,
     "metadata": {},
     "output_type": "execute_result"
    }
   ],
   "source": [
    "df.head()"
   ]
  },
  {
   "cell_type": "code",
   "execution_count": 312,
   "id": "11c41606",
   "metadata": {},
   "outputs": [
    {
     "data": {
      "text/plain": [
       "<seaborn.axisgrid.FacetGrid at 0x1c5f945f4c0>"
      ]
     },
     "execution_count": 312,
     "metadata": {},
     "output_type": "execute_result"
    },
    {
     "data": {
      "image/png": "[encoded data removed]",
      "text/plain": [
       "<Figure size 500x500 with 1 Axes>"
      ]
     },
     "metadata": {},
     "output_type": "display_data"
    }
   ],
   "source": [
    "sns.catplot(data=new_df, x=\"GENDER\")"
   ]
  },
  {
   "cell_type": "code",
   "execution_count": 313,
   "id": "9247954c",
   "metadata": {},
   "outputs": [
    {
     "data": {
      "text/plain": [
       "<seaborn.axisgrid.FacetGrid at 0x1c5de580ac0>"
      ]
     },
     "execution_count": 313,
     "metadata": {},
     "output_type": "execute_result"
    },
    {
     "data": {
      "image/png": "[encoded data removed]",
      "text/plain": [
       "<Figure size 500x500 with 1 Axes>"
      ]
     },
     "metadata": {},
     "output_type": "display_data"
    }
   ],
   "source": [
    "sns.catplot(data=new_df, x=\"MARITAL_STATUS\")"
   ]
  },
  {
   "cell_type": "code",
   "execution_count": null,
   "id": "0e565b4a",
   "metadata": {},
   "outputs": [],
   "source": []
  }
 ],
 "metadata": {
  "kernelspec": {
   "display_name": "Python 3 (ipykernel)",
   "language": "python",
   "name": "python3"
  },
  "language_info": {
   "codemirror_mode": {
    "name": "ipython",
    "version": 3
   },
   "file_extension": ".py",
   "mimetype": "text/x-python",
   "name": "python",
   "nbconvert_exporter": "python",
   "pygments_lexer": "ipython3",
   "version": "3.9.13"
  }
 },
 "nbformat": 4,
 "nbformat_minor": 5
}
